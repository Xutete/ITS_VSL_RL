{
 "cells": [
  {
   "cell_type": "code",
   "execution_count": 21,
   "metadata": {},
   "outputs": [],
   "source": [
    "import numpy as np\n",
    "import pandas as pd\n",
    "import matplotlib.pyplot as plt\n",
    "from matplotlib import gridspec"
   ]
  },
  {
   "cell_type": "code",
   "execution_count": 22,
   "metadata": {},
   "outputs": [],
   "source": [
    "df_small = pd.read_csv('./transitions.csv')"
   ]
  },
  {
   "cell_type": "code",
   "execution_count": 23,
   "metadata": {
    "scrolled": true
   },
   "outputs": [],
   "source": [
    "def transition_matrix(df_small):\n",
    "    # empty dataframe for tracking\n",
    "    num_state = len(np.unique(df_small.s))\n",
    "    num_action = len(np.unique(df_small.a))\n",
    "    # tracking Rewards for T matrix\n",
    "    R = np.zeros([num_state, num_action])\n",
    "    # tracking transition\n",
    "    N = np.zeros([num_state, num_action, num_state])\n",
    "    # TN table generation\n",
    "    for c_state in range(1,num_state+1):\n",
    "        c_df = df_small[df_small.s == c_state]\n",
    "        for a in range(1,num_action+1):\n",
    "            a_df = c_df[c_df.a == a].reset_index(drop=True)\n",
    "            R[a_df.s[0]-1, a_df.a[0]-1] = a_df.r[0]\n",
    "            acounts = len(a_df)\n",
    "            for n_state in np.unique(a_df.sp):\n",
    "                ncounts = len(a_df[a_df.sp == n_state])\n",
    "                N[c_state-1, a-1, n_state-1] = ncounts \n",
    "                \n",
    "    # Transition Prob\n",
    "    T = N/N.sum(axis=-1).reshape(num_state,num_action,1)\n",
    "    return R, T"
   ]
  },
  {
   "cell_type": "code",
   "execution_count": 24,
   "metadata": {
    "scrolled": true
   },
   "outputs": [],
   "source": [
    "R, T = transition_matrix(df_small)"
   ]
  },
  {
   "cell_type": "code",
   "execution_count": 26,
   "metadata": {
    "scrolled": true
   },
   "outputs": [],
   "source": [
    "def value_iteration(R, T, gamma=0.95):\n",
    "    # tracking \n",
    "    nstates = T.shape[0]\n",
    "    U = np.zeros(nstates)\n",
    "    V = np.zeros(nstates)\n",
    "    P = np.zeros(nstates)\n",
    "    # value interation\n",
    "    while True:\n",
    "        for i in range(nstates):\n",
    "            V[i] = np.max((gamma * np.sum((T[i]*U),axis=1) + R[i]))\n",
    "        diff = ((U-V.flatten())**2).mean()\n",
    "        U = V.copy()\n",
    "        if diff < 10**(-10):\n",
    "            break\n",
    "\n",
    "    for j in range(nstates):\n",
    "        P[j] = np.argmax((gamma * np.sum((T[j]*U),axis=1) + R[j]))+1\n",
    "    print('converged')\n",
    "    return U, P"
   ]
  },
  {
   "cell_type": "code",
   "execution_count": 27,
   "metadata": {},
   "outputs": [
    {
     "name": "stdout",
     "output_type": "stream",
     "text": [
      "converged\n"
     ]
    }
   ],
   "source": [
    "U, P = value_iteration(R, T, gamma=0.95)"
   ]
  },
  {
   "cell_type": "code",
   "execution_count": 28,
   "metadata": {},
   "outputs": [],
   "source": [
    "with open('small.policy', 'w+') as f:\n",
    "    for i in P:\n",
    "        f.write(str(int(i))+'\\n')"
   ]
  },
  {
   "cell_type": "code",
   "execution_count": 29,
   "metadata": {},
   "outputs": [],
   "source": [
    "def small_plot(R,U):\n",
    "    fig = plt.figure(figsize=(10,5))\n",
    "    gs = gridspec.GridSpec(1, 2, wspace=0.1, hspace=0.1)\n",
    "    ax0 = plt.subplot(gs[0])\n",
    "    ax1 = plt.subplot(gs[1])\n",
    "    \n",
    "    initial_grid = R.mean(axis=1).reshape(10,10)\n",
    "    ax0.imshow(initial_grid)\n",
    "    ax0.set_title('Initial GridWorld')\n",
    "    ax1.imshow(U.reshape(10,10))\n",
    "    ax1.set_title('Value Iteration Result')\n",
    "    plt.show()\n",
    "    fig.savefig('./small_res.png', bbox_inches='tight')"
   ]
  },
  {
   "cell_type": "code",
   "execution_count": 30,
   "metadata": {},
   "outputs": [
    {
     "data": {
      "image/png": "[encoded data removed]",
      "text/plain": [
       "<Figure size 720x360 with 2 Axes>"
      ]
     },
     "metadata": {},
     "output_type": "display_data"
    }
   ],
   "source": [
    "small_plot(R,U)"
   ]
  },
  {
   "cell_type": "code",
   "execution_count": 31,
   "metadata": {},
   "outputs": [
    {
     "data": {
      "text/plain": [
       "array([[2., 2., 3., 3., 3., 3., 3., 3., 3., 3.],\n",
       "       [2., 2., 3., 1., 1., 3., 3., 3., 3., 3.],\n",
       "       [2., 2., 4., 3., 3., 3., 3., 3., 3., 3.],\n",
       "       [2., 2., 2., 3., 2., 3., 3., 3., 3., 3.],\n",
       "       [3., 2., 2., 3., 3., 3., 3., 3., 3., 3.],\n",
       "       [2., 2., 2., 2., 2., 3., 3., 3., 1., 3.],\n",
       "       [2., 2., 2., 2., 2., 2., 3., 3., 1., 1.],\n",
       "       [2., 2., 2., 2., 2., 2., 1., 1., 1., 1.],\n",
       "       [2., 2., 2., 2., 2., 2., 4., 4., 1., 1.],\n",
       "       [2., 2., 2., 2., 2., 4., 4., 4., 4., 1.]])"
      ]
     },
     "execution_count": 31,
     "metadata": {},
     "output_type": "execute_result"
    }
   ],
   "source": [
    "P.reshape([10,10])"
   ]
  },
  {
   "cell_type": "code",
   "execution_count": null,
   "metadata": {},
   "outputs": [],
   "source": []
  },
  {
   "cell_type": "code",
   "execution_count": null,
   "metadata": {},
   "outputs": [],
   "source": []
  },
  {
   "cell_type": "code",
   "execution_count": null,
   "metadata": {},
   "outputs": [],
   "source": []
  },
  {
   "cell_type": "code",
   "execution_count": null,
   "metadata": {},
   "outputs": [],
   "source": []
  }
 ],
 "metadata": {
  "kernelspec": {
   "display_name": "Python 3",
   "language": "python",
   "name": "python3"
  },
  "language_info": {
   "codemirror_mode": {
    "name": "ipython",
    "version": 3
   },
   "file_extension": ".py",
   "mimetype": "text/x-python",
   "name": "python",
   "nbconvert_exporter": "python",
   "pygments_lexer": "ipython3",
   "version": "3.6.5"
  }
 },
 "nbformat": 4,
 "nbformat_minor": 2
}
