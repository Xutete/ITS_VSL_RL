{
 "cells": [
  {
   "cell_type": "code",
   "execution_count": 1,
   "metadata": {
    "collapsed": true
   },
   "outputs": [],
   "source": [
    "import os\n",
    "import win32com.client as com\n",
    "\n",
    "import time\n",
    "import random\n",
    "import numpy as np\n",
    "import pandas as pd\n",
    "import seaborn as sns\n",
    "from collections import namedtuple, deque\n",
    "\n",
    "import matplotlib\n",
    "import matplotlib.pyplot as plt\n",
    "from matplotlib import gridspec\n",
    "import warnings\n",
    "warnings.filterwarnings(\"ignore\")"
   ]
  },
  {
   "cell_type": "markdown",
   "metadata": {},
   "source": [
    "### Activate Vissim "
   ]
  },
  {
   "cell_type": "code",
   "execution_count": 2,
   "metadata": {
    "collapsed": true
   },
   "outputs": [],
   "source": [
    "cdict = {'red': ((0.0, 1.0, 1.0),\n",
    "                 (0.125, 1.0, 1.0),\n",
    "                 (0.25, 1.0, 1.0),\n",
    "                 (0.5625, 1.0, 1.0),\n",
    "                 (1.0, 0.0, 0.0)),\n",
    "         'green': ((0.0, 0.0, 0.0),\n",
    "                   (0.25, 0.0, 0.0),\n",
    "                   (0.5625, 1.0, 1.0),\n",
    "                   (1.0, 1.0, 1.0)),\n",
    "         'blue': ((0.0, 0.0, 0.0),\n",
    "                  (0.5, 0.0, 0.0),\n",
    "                  (1.0, 0.0, 0.0))}\n",
    "my_cmap = matplotlib.colors.LinearSegmentedColormap('my_colormap',cdict,256)"
   ]
  },
  {
   "cell_type": "code",
   "execution_count": 3,
   "metadata": {
    "collapsed": true
   },
   "outputs": [],
   "source": [
    "# dispatch Vissim 10.0\n",
    "Vissim = com.gencache.EnsureDispatch(\"Vissim.Vissim-64.10\")\n",
    "\n",
    "# vissim network file location\n",
    "network = os.path.join(os.getcwd(), 'simulation','VSL_simulation.inpx')\n",
    "layout = os.path.join(os.getcwd(), 'simulation','VSL_simulation.layx')\n",
    "\n",
    "# Load network and layout\n",
    "flag_read_additionally = True\n",
    "Vissim.LoadNet(network, flag_read_additionally)\n",
    "Vissim.LoadLayout(layout)\n",
    "Vissim.SaveNetAs(network)"
   ]
  },
  {
   "cell_type": "markdown",
   "metadata": {},
   "source": [
    "### real world environment setup"
   ]
  },
  {
   "cell_type": "code",
   "execution_count": 4,
   "metadata": {
    "collapsed": true
   },
   "outputs": [],
   "source": [
    "# Add desired 15-mins time interval\n",
    "# TimeIntervalSet = 1   # 1 = VehicleInput\n",
    "# for i in range(len(p1)-1):\n",
    "#     Vissim.Net.TimeIntervalSets.ItemByKey(TimeIntervalSet).TimeInts.AddTimeInterval(0) # unsigned int Key"
   ]
  },
  {
   "cell_type": "code",
   "execution_count": 33,
   "metadata": {
    "collapsed": true
   },
   "outputs": [],
   "source": [
    "def dynamic_vol(sensor, df_path='./data/raw.csv'):\n",
    "    df_input = pd.read_csv(df_path,delimiter=',')\n",
    "    raw_vol = df_input[(df_input.Sensor == sensor)]\n",
    "    raw_vol['time'] = raw_vol.hh * 60 + raw_vol.mm\n",
    "    raw_vol = raw_vol[(raw_vol.time > 895)&(raw_vol.time < 1110)]\n",
    "    raw_vol['Time'] = raw_vol.time//15\n",
    "    raw_input = raw_vol.groupby(['Sensor','Time'])['hourly_v','Speed','Count'].mean().reset_index()\n",
    "    raw_input.Time = raw_input.Time * 15\n",
    "    return raw_input"
   ]
  },
  {
   "cell_type": "code",
   "execution_count": 6,
   "metadata": {
    "collapsed": true
   },
   "outputs": [],
   "source": [
    "# Enter Ramp Volume\n",
    "p1 = dynamic_vol('EB to 86th STREET-EB')\n",
    "p4 = dynamic_vol('I-35/80 EB @ Iowa 28')\n",
    "portion = p4.hourly_v.sum()/p1.hourly_v.sum() - 1.0\n",
    "# R1 = list(round(0.2*1*(p4.hourly_v - p1.hourly_v)))\n",
    "# R2 = list(round(0.3*1*(p4.hourly_v - p1.hourly_v)))\n",
    "# R3 = list(round(0.5*1*(p4.hourly_v - p1.hourly_v)))\n",
    "R1 = list(round(p1.hourly_v * portion * 0.05))\n",
    "R2 = list(round(p1.hourly_v * portion * 0.2))\n",
    "R3 = list(round(p1.hourly_v * portion * 0.75))"
   ]
  },
  {
   "cell_type": "code",
   "execution_count": 7,
   "metadata": {},
   "outputs": [
    {
     "data": {
      "image/png": "[encoded data removed]",
      "text/plain": [
       "<Figure size 1080x288 with 3 Axes>"
      ]
     },
     "metadata": {},
     "output_type": "display_data"
    }
   ],
   "source": [
    "plt.figure(figsize=(15,4))\n",
    "plt.subplot(131)\n",
    "plt.plot(R1, c='blue')\n",
    "plt.subplot(132)\n",
    "plt.plot(R2, c='blue')\n",
    "plt.subplot(133)\n",
    "plt.plot(R3, c='blue')\n",
    "plt.show()"
   ]
  },
  {
   "cell_type": "code",
   "execution_count": 15,
   "metadata": {
    "collapsed": true
   },
   "outputs": [],
   "source": [
    "## Assign Volume\n",
    "# for p,v,r1,r2,r3 in zip(range(1, len(p1)+1), list(p1.hourly_v),R1,R2,R3):\n",
    "#     Vissim.Net.VehicleInputs.ItemByKey(1).SetAttValue('Volume({})'.format(p),v)\n",
    "#     Vissim.Net.VehicleInputs.ItemByKey(2).SetAttValue('Volume({})'.format(p),r1)\n",
    "#     Vissim.Net.VehicleInputs.ItemByKey(3).SetAttValue('Volume({})'.format(p),r2)\n",
    "#     Vissim.Net.VehicleInputs.ItemByKey(4).SetAttValue('Volume({})'.format(p),r3)\n",
    "# Vissim.SaveNetAs(network)"
   ]
  },
  {
   "cell_type": "code",
   "execution_count": 24,
   "metadata": {
    "collapsed": true
   },
   "outputs": [],
   "source": [
    "# test run\n",
    "Vissim.Simulation.Stop()\n",
    "Vissim.Graphics.CurrentNetworkWindow.SetAttValue(\"QuickMode\",1) # activate quickmode\n",
    "Vissim.Simulation.RunContinuous()\n",
    "Vissim.Simulation.Stop()"
   ]
  },
  {
   "cell_type": "code",
   "execution_count": 34,
   "metadata": {
    "collapsed": true
   },
   "outputs": [],
   "source": [
    "def get_speed(id_time):\n",
    "    res = np.zeros((8*40,4),dtype='object')\n",
    "    for i in range(1,9):\n",
    "        DC_measurement = Vissim.Net.DataCollectionMeasurements.ItemByKey(i)\n",
    "        res[i-1,0] = DC_measurement.AttValue('Name')\n",
    "        res[i-1,1] = DC_measurement.AttValue('Vehs    (Current,{},All)'.format(id_time))\n",
    "        res[i-1,2] = DC_measurement.AttValue('Speed       (Current,{},All)'.format(id_time)) # Speed of vehicles\n",
    "        res[i-1,3] = DC_measurement.AttValue('OccupRate       (Current,{},All)'.format(id_time))\n",
    "    res = pd.DataFrame(res,columns=['Name','vehs','speed','occ'])\n",
    "    res = res.iloc[0:8]\n",
    "    return res"
   ]
  },
  {
   "cell_type": "code",
   "execution_count": 35,
   "metadata": {
    "collapsed": true
   },
   "outputs": [],
   "source": [
    "def speed_dist():\n",
    "    all_res = []\n",
    "    for i in range (1,41):\n",
    "        block = get_speed(i)\n",
    "        block['time_interval'] = i\n",
    "        all_res.append(block)\n",
    "    all_res = pd.concat(all_res)\n",
    "    all_res['vehs'] = all_res['vehs'].astype('float')\n",
    "    all_res['speed'] = all_res['speed'].astype('float')\n",
    "    all_res['time_interval'] = all_res['time_interval'].astype('float')\n",
    "    return all_res"
   ]
  },
  {
   "cell_type": "code",
   "execution_count": 36,
   "metadata": {
    "collapsed": true
   },
   "outputs": [],
   "source": [
    "def povit_shape(res_):\n",
    "    res = pd.pivot_table(res_, index=['Name'], columns=['time_interval'], values=['speed'])\n",
    "    res.columns = [i+str(int(j)) for i,j in res.columns]\n",
    "    #res = np.array(res.reset_index())\n",
    "    return res"
   ]
  },
  {
   "cell_type": "code",
   "execution_count": 90,
   "metadata": {},
   "outputs": [
    {
     "data": {
      "image/png": "[encoded data removed]",
      "text/plain": [
       "<Figure size 432x288 with 2 Axes>"
      ]
     },
     "metadata": {},
     "output_type": "display_data"
    }
   ],
   "source": [
    "speed_heat = povit_shape(speed_dist())\n",
    "plt.figure(figsize=(6, 4))\n",
    "sns.heatmap(speed_heat, cmap=my_cmap,cbar=True, vmin=10, vmax=70)\n",
    "plt.show()"
   ]
  },
  {
   "cell_type": "code",
   "execution_count": 28,
   "metadata": {
    "collapsed": true
   },
   "outputs": [],
   "source": [
    "# all_res = all_res.groupby('time_interval').agg({'vehs':'sum', 'speed':'mean'}).reset_index()\n",
    "# # agg_res = all_res.copy()\n",
    "# all_res['time_interval'] = 600 + (all_res['time_interval']-1) * 300"
   ]
  },
  {
   "cell_type": "code",
   "execution_count": 29,
   "metadata": {
    "collapsed": true
   },
   "outputs": [],
   "source": [
    "# # Simulation parameters setting\n",
    "# Vissim.Simulation.Stop()\n",
    "# End_of_simulation = 12600 # total running time\n",
    "# Vissim.Simulation.SetAttValue('SimPeriod', End_of_simulation)\n",
    "# Sim_break_at = 900 # break simulation every 5-mins\n",
    "# Vissim.Simulation.SetAttValue('SimBreakAt', Sim_break_at)\n",
    "# Vissim.Simulation.SetAttValue('UseMaxSimSpeed', True)\n",
    "# Vissim.Simulation.SetAttValue('RandSeed', 42)"
   ]
  },
  {
   "cell_type": "code",
   "execution_count": 30,
   "metadata": {
    "collapsed": true
   },
   "outputs": [],
   "source": [
    "# # simulation run\n",
    "# Vissim.Simulation.Stop()\n",
    "# for simRun in Vissim.Net.SimulationRuns:\n",
    "#     Vissim.Net.SimulationRuns.RemoveSimulationRun(simRun) # clean previous simulation run\n",
    "\n",
    "# Vissim.Graphics.CurrentNetworkWindow.SetAttValue(\"QuickMode\",1) # activate quickmode\n",
    "# Vissim.Simulation.RunContinuous()\n",
    "# Vissim.Graphics.CurrentNetworkWindow.SetAttValue(\"QuickMode\",0) # deactivate quickmode\n",
    "# Vissim.SuspendUpdateGUI()\n",
    "# Vissim.ResumeUpdateGUI(True)\n",
    "# Vissim.Simulation.RunSingleStep()\n",
    "# Vissim.Simulation.Stop()"
   ]
  },
  {
   "cell_type": "markdown",
   "metadata": {},
   "source": [
    "### Vissim simulator environment"
   ]
  },
  {
   "cell_type": "code",
   "execution_count": 8,
   "metadata": {
    "collapsed": true
   },
   "outputs": [],
   "source": [
    "def get_link():\n",
    "    link_info = np.array((Vissim.Net.Links.GetMultipleAttributes(['Name','Numlanes','Length2D','LinkEvalAct'])),dtype='object')\n",
    "    link_info = link_info[link_info[:,-1]==1][:,:-1]\n",
    "    link_info = pd.DataFrame(link_info,columns=['Name','Numlanes','length'])\n",
    "    return link_info"
   ]
  },
  {
   "cell_type": "code",
   "execution_count": 9,
   "metadata": {
    "collapsed": true
   },
   "outputs": [],
   "source": [
    "def get_collection(links):\n",
    "    res = np.zeros((len(links),4),dtype='object')\n",
    "    for i in range(1,len(links)+1):\n",
    "        DC_measurement = Vissim.Net.DataCollectionMeasurements.ItemByKey(i)\n",
    "        res[i-1,0] = DC_measurement.AttValue('Name')\n",
    "        res[i-1,1] = DC_measurement.AttValue('Vehs    (Current,last,All)')\n",
    "        res[i-1,2] = DC_measurement.AttValue('Speed       (Current,last,All)') # Speed of vehicles\n",
    "        res[i-1,3] = DC_measurement.AttValue('OccupRate       (Current,last,All)')\n",
    "    res = pd.DataFrame(res,columns=['Name','vehs','speed','occ'])\n",
    "    return res"
   ]
  },
  {
   "cell_type": "code",
   "execution_count": 10,
   "metadata": {
    "collapsed": true
   },
   "outputs": [],
   "source": [
    "def los_partition(k_i):\n",
    "    bins=[0,11,18,26,35,45,100] # LOS criterias\n",
    "    parts = len(bins)-1\n",
    "    seqs=np.zeros((len(k_i)),dtype=np.int)\n",
    "    for k in range(0, parts):\n",
    "        seqs[np.logical_and(k_i>=bins[k],k_i<=bins[k+1])]=k+1\n",
    "    return seqs"
   ]
  },
  {
   "cell_type": "code",
   "execution_count": 11,
   "metadata": {
    "collapsed": true
   },
   "outputs": [],
   "source": [
    "def get_state():\n",
    "    # get link info\n",
    "    link_info = get_link()\n",
    "    # get data collection info\n",
    "    res = get_collection(link_info)\n",
    "    # append lanes numbers\n",
    "    out = pd.merge(link_info,res,left_on='Name',right_on='Name')\n",
    "    out['k_lane'] = out.vehs*12/out.speed/out.Numlanes\n",
    "    # out['Name'] = out.Name.str[0:8]\n",
    "    # out[['length','vehs','speed','occ','k_lane']] = out[['length','vehs','speed','occ','k_lane']].astype(np.float)\n",
    "    #out = out.groupby('Name')['vehs','speed','occ','k_lane'].mean().reset_index()\n",
    "    out['LOS'] = los_partition(out.k_lane)\n",
    "    out['avg_tt'] = 3600*(out.length/5280)/out.speed\n",
    "    return out"
   ]
  },
  {
   "cell_type": "code",
   "execution_count": 12,
   "metadata": {
    "collapsed": true
   },
   "outputs": [],
   "source": [
    "def get_delay_stop():\n",
    "    avg_delay = Vissim.Net.VehicleNetworkPerformanceMeasurement.AttValue('DelayAvg (Current,last,All)')\n",
    "    avg_stop = Vissim.Net.VehicleNetworkPerformanceMeasurement.AttValue('STOPSAVG (Current,last,All)')\n",
    "    active_vehicle = Vissim.Net.VehicleNetworkPerformanceMeasurement.AttValue('VEHACT (Current,last,All)')\n",
    "    arrived_vehicle = Vissim.Net.VehicleNetworkPerformanceMeasurement.AttValue('VEHARR (Current,last,All)')\n",
    "    res = pd.DataFrame({'avg_delay':[avg_delay],'avg_stop':[avg_stop],\n",
    "                        'active_vehicle':[active_vehicle], 'arrived_vehicle':[arrived_vehicle]})\n",
    "    return res"
   ]
  },
  {
   "cell_type": "code",
   "execution_count": 13,
   "metadata": {
    "collapsed": true
   },
   "outputs": [],
   "source": [
    "def get_travltime(links):\n",
    "    res = np.zeros((len(links),3),dtype='object')\n",
    "    for i in range(1,len(links)+1):\n",
    "        TT_measurement =Vissim.Net.VehicleTravelTimeMeasurements.ItemByKey(i)\n",
    "        res[i-1,0] = TT_measurement.AttValue('Name')\n",
    "        res[i-1,1] = TT_measurement.AttValue('TravTm (Current,last,All)')\n",
    "        res[i-1,2] = TT_measurement.AttValue('DISTTRAV (Current,last,All)')\n",
    "    res = pd.DataFrame(res,columns=['Name','traveltime','dist'])\n",
    "    return res"
   ]
  },
  {
   "cell_type": "code",
   "execution_count": 14,
   "metadata": {
    "collapsed": true
   },
   "outputs": [],
   "source": [
    "def get_res():\n",
    "    # Getting state \n",
    "    df_state = get_state()\n",
    "    state_vec = np.array((df_state.LOS),dtype='int')\n",
    "    # Getting action \n",
    "    action_vec = np.array([10050,10055,10060,10065,10070, 10075,10080,10085])\n",
    "    # Getting reward \n",
    "    df_delay = get_delay_stop()\n",
    "    evaluate_df = np.array(df_delay).squeeze()\n",
    "    rewards = np.array((df_delay.avg_delay+ df_delay.avg_stop) * (-1)) # \n",
    "    # df_rewards = get_travltime(state_vec)\n",
    "    # rewards_vec = np.array(df_rewards.traveltime,dtype='float').sum() * (-1)\n",
    "    tt = np.array(df_state.avg_tt,dtype='float')\n",
    "    evaluate_df = np.append(evaluate_df, tt.sum())\n",
    "    return state_vec, action_vec, rewards, evaluate_df"
   ]
  },
  {
   "cell_type": "code",
   "execution_count": 15,
   "metadata": {
    "collapsed": true
   },
   "outputs": [],
   "source": [
    "# dynamic speed changes\n",
    "def assign_VSL(speed_limit):\n",
    "    for i in range(1, len(Vissim.Net.DesSpeedDecisions.GetAll())+1):\n",
    "        if Vissim.Net.DesSpeedDecisions.ItemByKey(i).AttValue('Name') == 'S1_65MPH':\n",
    "            # Car speed distribution\n",
    "            Vissim.Net.DesSpeedDecisions.ItemByKey(i).SetAttValue('DesSpeedDistr(10)',speed_limit)\n",
    "            # HGV speed distribution\n",
    "            Vissim.Net.DesSpeedDecisions.ItemByKey(i).SetAttValue('DesSpeedDistr(20)',speed_limit)\n",
    "        else:\n",
    "            pass\n",
    "    #return print('VSL Changed.')"
   ]
  },
  {
   "cell_type": "code",
   "execution_count": 20,
   "metadata": {
    "collapsed": true
   },
   "outputs": [],
   "source": [
    "S, A, R, evaluate_df = get_res()"
   ]
  },
  {
   "cell_type": "code",
   "execution_count": 21,
   "metadata": {},
   "outputs": [
    {
     "data": {
      "text/plain": [
       "(array([2, 3, 3, 3, 3, 3, 4, 3]),\n",
       " array([10050, 10055, 10060, 10065, 10070, 10075, 10080, 10085]),\n",
       " array([-4.39056072]))"
      ]
     },
     "execution_count": 21,
     "metadata": {},
     "output_type": "execute_result"
    }
   ],
   "source": [
    "S, A, R"
   ]
  },
  {
   "cell_type": "code",
   "execution_count": 22,
   "metadata": {},
   "outputs": [
    {
     "data": {
      "text/plain": [
       "array([2.93000000e+02, 3.69000000e+02, 4.38149727e+00, 9.06344411e-03,\n",
       "       2.76097888e+02])"
      ]
     },
     "execution_count": 22,
     "metadata": {},
     "output_type": "execute_result"
    }
   ],
   "source": [
    "evaluate_df"
   ]
  },
  {
   "cell_type": "code",
   "execution_count": 65,
   "metadata": {
    "collapsed": true
   },
   "outputs": [],
   "source": [
    "class vissim_environment():\n",
    "    \n",
    "    def __init__(self,\n",
    "                 Initial_sim_break = 900, # 1st env state\n",
    "                 End_of_simulation = 12600, \n",
    "                 action_space = np.array([10050,10055,10060,10065,10070,10075,10080,10085])):\n",
    "\n",
    "        self.action_space = action_space\n",
    "        self.End_of_simulation = End_of_simulation\n",
    "        self.Initial_sim_break = Initial_sim_break\n",
    "        #print('Environment Created.')\n",
    "    \n",
    "    def reset(self, initial_speed, vissim_seed = np.random.randint(1, 10**5)):\n",
    "        # reset the simulation with random seed and get the first stage as initial state input.\n",
    "        Vissim.Simulation.Stop()\n",
    "        # assign initial speed limit\n",
    "        assign_VSL(10000+initial_speed)\n",
    "        speed_dis_check = Vissim.Net.DesSpeedDecisions.ItemByKey(1).AttValue('DesSpeedDistr(10)')\n",
    "        #print(speed_dis_check)\n",
    "                 \n",
    "        for simRun in Vissim.Net.SimulationRuns:\n",
    "            Vissim.Net.SimulationRuns.RemoveSimulationRun(simRun) # clean previous simulation run\n",
    "        \n",
    "        Vissim.Simulation.SetAttValue('RandSeed', vissim_seed)\n",
    "        Vissim.Simulation.SetAttValue('UseMaxSimSpeed', True)\n",
    "        Vissim.Simulation.SetAttValue('SimBreakAt', self.Initial_sim_break)\n",
    "        Vissim.Simulation.SetAttValue('SimPeriod', self.End_of_simulation)\n",
    "        Vissim.Graphics.CurrentNetworkWindow.SetAttValue(\"QuickMode\",1) # activate quickmode\n",
    "        Vissim.Simulation.RunContinuous()\n",
    "        init_state, _, init_reward, evaluate_df = get_res()\n",
    "        return init_state, init_reward ,evaluate_df\n",
    "        \n",
    "    def step(self, id_action, sim_break):\n",
    "        # simulator run one step given action and next 5-mins data collection points \n",
    "        action = str(self.action_space[id_action])\n",
    "        assign_VSL(action)\n",
    "        speed_dis_check = Vissim.Net.DesSpeedDecisions.ItemByKey(1).AttValue('DesSpeedDistr(10)')\n",
    "        #print('VSL: {}'.format(int(speed_dis_check)-10000))\n",
    "        # break point\n",
    "        Sim_break_at = sim_break\n",
    "        Vissim.Simulation.SetAttValue('SimBreakAt', Sim_break_at)\n",
    "        Vissim.Simulation.RunContinuous()\n",
    "        \n",
    "        reward = 0.0\n",
    "        done = False\n",
    "        if sim_break == self.End_of_simulation:\n",
    "            done = True\n",
    "        state, _, reward, evaluate_df = get_res()\n",
    "        \n",
    "        return state, reward, done, evaluate_df\n",
    "    \n",
    "    def stop(self):\n",
    "        Vissim.Simulation.Stop()"
   ]
  },
  {
   "cell_type": "markdown",
   "metadata": {},
   "source": [
    "### DQNet"
   ]
  },
  {
   "cell_type": "code",
   "execution_count": 66,
   "metadata": {
    "collapsed": true
   },
   "outputs": [],
   "source": [
    "import torch\n",
    "import torch.nn as nn\n",
    "import torch.nn.functional as F\n",
    "import torch.optim as optim"
   ]
  },
  {
   "cell_type": "code",
   "execution_count": 67,
   "metadata": {
    "collapsed": true
   },
   "outputs": [],
   "source": [
    "class DQnet(nn.Module):\n",
    "    def __init__(self, state_space, action_space, seed, fc12_nodes=16, fc23_nodes=16):\n",
    "        super(DQnet, self).__init__()\n",
    "        self.seed = torch.manual_seed(seed)\n",
    "        self.fc1 = nn.Linear(state_space, fc12_nodes, bias=True)\n",
    "        self.fc2 = nn.Linear(fc12_nodes, fc23_nodes, bias=True)\n",
    "        self.fc3 = nn.Linear(fc23_nodes, action_space, bias=True)\n",
    "    # rewrite forward to generate result\n",
    "    def forward(self, state):\n",
    "        s = self.fc1(state)\n",
    "        s = F.relu(s)\n",
    "        s = self.fc2(s)\n",
    "        s = F.relu(s)\n",
    "        s = self.fc3(s)\n",
    "        \n",
    "        return s"
   ]
  },
  {
   "cell_type": "markdown",
   "metadata": {},
   "source": [
    "### VSL Agent"
   ]
  },
  {
   "cell_type": "code",
   "execution_count": 68,
   "metadata": {
    "collapsed": true
   },
   "outputs": [],
   "source": [
    "memory_size = 10**5 # 5-mins step, (12600s - 900s)/300s + 1 = 40 steps for 1 simulation, expect run 200 simulation\n",
    "batch_size = 1 # experience replay size\n",
    "\n",
    "class replay_memory():\n",
    "    \n",
    "    def __init__(self, memory_size, batch_size, seed):\n",
    "        \n",
    "        self.experience = namedtuple('Experience', field_names=['state', 'action', 'reward', 'next_state', 'done'])\n",
    "        self.memory = deque([],maxlen=memory_size)\n",
    "        self.batch_size = batch_size\n",
    "        self.seed = random.seed(seed)\n",
    "        #print('Memory initialized.')\n",
    "        \n",
    "    def add(self, state, action, reward, next_state, done):\n",
    "        exp = self.experience(state, action, reward, next_state, done)\n",
    "        self.memory.append(exp)\n",
    "    \n",
    "    def sample(self):\n",
    "        experiences = random.sample(self.memory, self.batch_size)\n",
    "        \n",
    "        states = torch.from_numpy(np.vstack([exp.state for exp in experiences if exp is not None])).float().to(device)\n",
    "        actions = torch.from_numpy(np.vstack([exp.action for exp in experiences if exp is not None])).long().to(device)\n",
    "        rewards = torch.from_numpy(np.vstack([exp.reward for exp in experiences if exp is not None])).float().to(device)\n",
    "        next_states = torch.from_numpy(np.vstack([exp.next_state for exp in experiences if exp is not None])).float().to(device)\n",
    "        dones = torch.from_numpy(np.vstack([exp.done for exp in experiences if exp is not None]).astype(np.uint8)).float().to(device)\n",
    "        \n",
    "        return (states, actions, rewards, next_states, dones)\n",
    "    \n",
    "    def __len__(self): # length hook\n",
    "        return len(self.memory)"
   ]
  },
  {
   "cell_type": "code",
   "execution_count": 69,
   "metadata": {
    "collapsed": true,
    "scrolled": true
   },
   "outputs": [],
   "source": [
    "# Allocating tensor to CPU or GPU if availiable.\n",
    "device = torch.device('cpu')\n",
    "# parameters setting\n",
    "LR = 5e-3        # learning rate \n",
    "Gamma = 0.95     # discount factor\n",
    "alpha = 0.9999     # adaptive update the fixed target_net\n",
    "\n",
    "# VSL Agent initialize\n",
    "class VSL_Agent():\n",
    "    \n",
    "    def __init__(self, state_space, action_space, seed):\n",
    "        \n",
    "        self.state_space = state_space\n",
    "        self.action_space = action_space\n",
    "        # Build 2 network, eval net and target net, where eval_net update first\n",
    "        self.Qnet_eval = DQnet(state_space, action_space, seed).to(device)\n",
    "        self.Qnet_target = DQnet(state_space, action_space, seed).to(device)\n",
    "        self.optimizer = optim.Adam(self.Qnet_eval.parameters(), lr=LR)\n",
    "        # recall the experiences memory\n",
    "        self.memory = replay_memory(memory_size,batch_size,seed)\n",
    "        \n",
    "        #print('Agent ready.')\n",
    "        \n",
    "    def act(self, state, eps):\n",
    "        # Pick action under current state\n",
    "        state = torch.from_numpy(state).float().unsqueeze(0).to(device)\n",
    "        \n",
    "        # pick action by using the trained eval_net before parameters update\n",
    "        self.Qnet_eval.eval() # fix dropout and BN values, evaluate/test mode, deactivate parameters updates\n",
    "        with torch.no_grad(): # reduce the memory used, deactivate auto gradients requires_grad=False\n",
    "            action_values = self.Qnet_eval(state) # new state vector pass to the layers and get values\n",
    "        self.Qnet_eval.train() # activate train mode, allow parameters updates\n",
    "        # print (action_values)\n",
    "        # epsilon-greedy action selector\n",
    "        if random.random() > eps:\n",
    "            # select the speed limit with larger rewards\n",
    "            action_values = action_values.cpu().data.numpy()\n",
    "            return np.argmax(action_values)\n",
    "        else:\n",
    "            # random selection speed limit\n",
    "            return random.choice(np.arange(self.action_space))\n",
    "\n",
    "    def step(self, state, action, reward, next_state, done):\n",
    "        # add new state to the memory\n",
    "        self.memory.add(state, action, reward, next_state, done)\n",
    "        if len(self.memory) >= batch_size:\n",
    "            exp = self.memory.sample()\n",
    "            self.learn(exp, Gamma)\n",
    "            # return exp\n",
    "        \n",
    "    def learn(self, exp, gamma):\n",
    "        # two network, use target net as the target of output from eval_net.\n",
    "        # train the eval_net to make sure eval_net get the max Q for optimal action\n",
    "        states, actions, rewards, next_states, dones = exp\n",
    "        \n",
    "        # Q_targets: R(s,a,s*) + gamma * max(Q(s*,a*)) one step look ahead  \n",
    "        Q_targets_next = self.Qnet_target(next_states).detach().max(1)[0].unsqueeze(1)\n",
    "        Q_targets = rewards + (gamma * Q_targets_next * (1 - dones))\n",
    "        \n",
    "        # Q expect under current action Q(s,a)\n",
    "        Q_expect = self.Qnet_eval(states).gather(1, actions)\n",
    "        \n",
    "        \n",
    "        # MSE loss\n",
    "        loss = F.mse_loss(Q_expect, Q_targets)\n",
    "        \n",
    "        # Adam optimator, minimize the loss, update the local Qnet\n",
    "        # new_nn = old_nn + LR * (loss)\n",
    "        self.optimizer.zero_grad()\n",
    "        loss.backward()\n",
    "        self.optimizer.step()\n",
    "        \n",
    "        # update target Qnet\n",
    "        for target_param, local_param in zip(self.Qnet_target.parameters(), self.Qnet_eval.parameters()):\n",
    "            target_param.data.copy_((1-alpha) * local_param.data + alpha * target_param.data)"
   ]
  },
  {
   "cell_type": "code",
   "execution_count": 70,
   "metadata": {
    "collapsed": true
   },
   "outputs": [],
   "source": [
    "# restrict action space\n",
    "# pre_action = deque(maxlen=1)\n",
    "# action_limit = 10\n",
    "# if ((action>pre_action-10) | (action<pre_action+10)):\n",
    "# state, score = env.reset(initial_speed=65)"
   ]
  },
  {
   "cell_type": "code",
   "execution_count": 71,
   "metadata": {},
   "outputs": [],
   "source": [
    "# eps_start=1.0\n",
    "# eps_end=0.05\n",
    "# eps_decay=0.97\n",
    "\n",
    "# eps = eps_start\n",
    "# for i in range(200):\n",
    "#     eps = max(eps_end, eps_decay*eps)\n",
    "#     print(i,eps)"
   ]
  },
  {
   "cell_type": "code",
   "execution_count": 72,
   "metadata": {
    "scrolled": true
   },
   "outputs": [],
   "source": [
    "def main_train(total_sim=150, max_ts=12900, eps_start=1.0, eps_end=0.2, eps_decay=0.975):\n",
    "    repeat_seed = 5\n",
    "    \n",
    "    # initialize env\n",
    "    env = vissim_environment()\n",
    "    \n",
    "    # initialize agent\n",
    "    agent = VSL_Agent(state_space=8, action_space=8, seed=1129)\n",
    "    \n",
    "    # initialize random seed\n",
    "    train_vissim_seed = np.tile(np.random.randint(1, 10**2, int(total_sim/repeat_seed)),repeat_seed)\n",
    "    \n",
    "    scores_window = deque(maxlen=10)\n",
    "    scores = []\n",
    "    vsl_set = []\n",
    "    eps = eps_start\n",
    "    for i_simulation in range(1, total_sim+1):\n",
    "        \n",
    "        start = time.time()\n",
    "        # main loop\n",
    "        state, _, evaluate_df = env.reset(initial_speed=65, vissim_seed=815) # train vissim seed is random\n",
    "        score = 0.0\n",
    "        action_set = []\n",
    "        # total length is 12600 seconds for 1 simulation, break at each 5-mins\n",
    "        for time_step in range(1200, max_ts, 300):\n",
    "            # start play\n",
    "            action = agent.act(state, eps)\n",
    "            next_state, reward, done, evaluate_df = env.step(action, time_step)\n",
    "            agent.step(state, action, reward, next_state, done)\n",
    "            state = next_state\n",
    "            \n",
    "            score += reward\n",
    "            # track vsl changes\n",
    "            action_set.append(action)\n",
    "            # print('Current Reward: {:.3f}'.format(float(reward)))\n",
    "            print('Cumulated Score: {:.3f}'.format(float(score)))\n",
    "            if done:\n",
    "                break\n",
    "                \n",
    "        env.stop()\n",
    "                \n",
    "        scores_window.append(score)\n",
    "        scores.append(score)\n",
    "        vsl_set.append(action_set)\n",
    "        # change the parameters for greedy search\n",
    "        eps = max(eps_end, eps_decay*eps)\n",
    "        end = time.time()\n",
    "        print('greedy search: {:.2f}'.format(eps))\n",
    "        print('simulation: {}\\tAvg scores: {}'.format(i_simulation, np.mean(scores_window)))\n",
    "        print('Action took: {}'.format(action_set))\n",
    "        print('Time used: {} s'.format(round(end-start, 1)))\n",
    "        \n",
    "        if np.mean(scores_window) >= -220:\n",
    "            break\n",
    "        \n",
    "    torch.save(agent.Qnet_eval.state_dict(), 'trained_model/model_vsl_fixedseed.pth')\n",
    "    \n",
    "    return scores, vsl_set"
   ]
  },
  {
   "cell_type": "code",
   "execution_count": 60,
   "metadata": {
    "scrolled": true
   },
   "outputs": [
    {
     "name": "stdout",
     "output_type": "stream",
     "text": [
      "Cumulated Score: -6.124\n",
      "Cumulated Score: -16.226\n",
      "Cumulated Score: -29.495\n",
      "Cumulated Score: -38.027\n",
      "Cumulated Score: -49.265\n",
      "Cumulated Score: -55.674\n",
      "Cumulated Score: -75.464\n",
      "Cumulated Score: -110.494\n",
      "Cumulated Score: -147.331\n",
      "Cumulated Score: -178.923\n",
      "Cumulated Score: -219.862\n",
      "Cumulated Score: -249.880\n",
      "Cumulated Score: -289.398\n",
      "Cumulated Score: -317.402\n",
      "Cumulated Score: -331.326\n",
      "Cumulated Score: -336.294\n",
      "Cumulated Score: -354.718\n",
      "Cumulated Score: -364.797\n",
      "Cumulated Score: -373.145\n",
      "Cumulated Score: -395.084\n",
      "Cumulated Score: -416.283\n",
      "Cumulated Score: -461.220\n",
      "Cumulated Score: -512.115\n",
      "Cumulated Score: -546.334\n",
      "Cumulated Score: -561.560\n",
      "Cumulated Score: -565.428\n",
      "Cumulated Score: -571.236\n",
      "Cumulated Score: -574.185\n",
      "Cumulated Score: -577.132\n",
      "Cumulated Score: -579.883\n",
      "Cumulated Score: -582.926\n",
      "Cumulated Score: -586.519\n",
      "Cumulated Score: -589.887\n",
      "Cumulated Score: -593.784\n",
      "Cumulated Score: -596.253\n",
      "Cumulated Score: -602.941\n",
      "Cumulated Score: -609.103\n",
      "Cumulated Score: -612.084\n",
      "Cumulated Score: -614.906\n",
      "greedy search: 0.97\n",
      "simulation: 1\tAvg scores: -614.9063321777996\n",
      "Action took: [7, 0, 2, 2, 6, 4, 0, 1, 0, 2, 2, 1, 7, 6, 6, 1, 5, 2, 0, 4, 0, 4, 4, 6, 6, 2, 5, 5, 2, 2, 1, 7, 7, 7, 1, 0, 1, 1, 1]\n",
      "Time used: 136.9 s\n",
      "Cumulated Score: -6.698\n",
      "Cumulated Score: -11.651\n",
      "Cumulated Score: -17.403\n",
      "Cumulated Score: -25.806\n",
      "Cumulated Score: -30.847\n",
      "Cumulated Score: -48.936\n",
      "Cumulated Score: -57.849\n",
      "Cumulated Score: -75.928\n",
      "Cumulated Score: -82.377\n",
      "Cumulated Score: -104.931\n",
      "Cumulated Score: -167.684\n",
      "Cumulated Score: -224.368\n",
      "Cumulated Score: -280.283\n",
      "Cumulated Score: -327.144\n",
      "Cumulated Score: -361.111\n",
      "Cumulated Score: -384.623\n",
      "Cumulated Score: -402.213\n",
      "Cumulated Score: -443.699\n",
      "Cumulated Score: -467.348\n",
      "Cumulated Score: -488.354\n",
      "Cumulated Score: -519.069\n",
      "Cumulated Score: -556.404\n",
      "Cumulated Score: -582.499\n",
      "Cumulated Score: -590.290\n",
      "Cumulated Score: -599.632\n",
      "Cumulated Score: -603.500\n",
      "Cumulated Score: -610.099\n",
      "Cumulated Score: -613.971\n",
      "Cumulated Score: -616.632\n",
      "Cumulated Score: -619.339\n",
      "Cumulated Score: -622.513\n",
      "Cumulated Score: -624.766\n",
      "Cumulated Score: -627.922\n",
      "Cumulated Score: -631.005\n",
      "Cumulated Score: -633.769\n",
      "Cumulated Score: -636.677\n",
      "Cumulated Score: -638.994\n",
      "Cumulated Score: -642.251\n",
      "Cumulated Score: -644.761\n",
      "greedy search: 0.95\n",
      "simulation: 2\tAvg scores: -629.8337864030332\n",
      "Action took: [5, 4, 7, 7, 1, 5, 3, 4, 1, 0, 4, 0, 7, 3, 4, 7, 0, 4, 0, 3, 6, 7, 5, 4, 6, 2, 7, 7, 4, 6, 5, 6, 4, 5, 7, 5, 3, 5, 2]\n",
      "Time used: 124.9 s\n",
      "Cumulated Score: -4.538\n",
      "Cumulated Score: -12.821\n",
      "Cumulated Score: -17.482\n",
      "Cumulated Score: -23.129\n",
      "Cumulated Score: -29.608\n",
      "Cumulated Score: -45.699\n",
      "Cumulated Score: -54.758\n",
      "Cumulated Score: -64.824\n",
      "Cumulated Score: -72.123\n",
      "Cumulated Score: -95.758\n",
      "Cumulated Score: -117.340\n",
      "Cumulated Score: -135.426\n",
      "Cumulated Score: -178.680\n",
      "Cumulated Score: -218.153\n",
      "Cumulated Score: -237.072\n",
      "Cumulated Score: -257.767\n",
      "Cumulated Score: -297.897\n",
      "Cumulated Score: -340.171\n",
      "Cumulated Score: -362.474\n",
      "Cumulated Score: -368.965\n",
      "Cumulated Score: -377.187\n",
      "Cumulated Score: -403.916\n",
      "Cumulated Score: -426.333\n",
      "Cumulated Score: -432.232\n",
      "Cumulated Score: -437.709\n",
      "Cumulated Score: -443.828\n",
      "Cumulated Score: -453.473\n",
      "Cumulated Score: -464.346\n",
      "Cumulated Score: -468.076\n",
      "Cumulated Score: -470.842\n",
      "Cumulated Score: -473.802\n",
      "Cumulated Score: -477.321\n",
      "Cumulated Score: -480.252\n",
      "Cumulated Score: -484.230\n",
      "Cumulated Score: -487.997\n",
      "Cumulated Score: -490.899\n",
      "Cumulated Score: -492.932\n",
      "Cumulated Score: -496.179\n",
      "Cumulated Score: -499.002\n",
      "greedy search: 0.93\n",
      "simulation: 3\tAvg scores: -586.2232162477017\n",
      "Action took: [2, 6, 5, 3, 2, 5, 3, 1, 1, 7, 4, 0, 6, 3, 2, 0, 6, 3, 5, 4, 1, 6, 5, 6, 2, 1, 0, 1, 6, 4, 1, 6, 2, 2, 6, 6, 2, 1, 1]\n",
      "Time used: 120.2 s\n",
      "Cumulated Score: -7.134\n",
      "Cumulated Score: -13.455\n",
      "Cumulated Score: -17.636\n",
      "Cumulated Score: -25.296\n",
      "Cumulated Score: -31.432\n",
      "Cumulated Score: -39.041\n",
      "Cumulated Score: -57.752\n",
      "Cumulated Score: -76.402\n",
      "Cumulated Score: -83.094\n",
      "Cumulated Score: -101.368\n",
      "Cumulated Score: -112.165\n",
      "Cumulated Score: -133.413\n",
      "Cumulated Score: -151.237\n",
      "Cumulated Score: -168.494\n",
      "Cumulated Score: -199.273\n",
      "Cumulated Score: -221.065\n",
      "Cumulated Score: -230.429\n",
      "Cumulated Score: -241.701\n",
      "Cumulated Score: -245.878\n",
      "Cumulated Score: -252.584\n",
      "Cumulated Score: -272.789\n",
      "Cumulated Score: -291.661\n",
      "Cumulated Score: -301.259\n",
      "Cumulated Score: -306.770\n",
      "Cumulated Score: -314.448\n",
      "Cumulated Score: -319.960\n",
      "Cumulated Score: -325.737\n",
      "Cumulated Score: -329.373\n",
      "Cumulated Score: -332.216\n",
      "Cumulated Score: -335.178\n",
      "Cumulated Score: -339.574\n",
      "Cumulated Score: -341.721\n",
      "Cumulated Score: -347.465\n",
      "Cumulated Score: -350.757\n",
      "Cumulated Score: -353.319\n",
      "Cumulated Score: -357.428\n",
      "Cumulated Score: -359.949\n",
      "Cumulated Score: -369.753\n",
      "Cumulated Score: -385.402\n",
      "greedy search: 0.90\n",
      "simulation: 4\tAvg scores: -536.0180218105145\n",
      "Action took: [4, 5, 2, 6, 3, 1, 7, 5, 2, 6, 3, 7, 0, 1, 6, 7, 2, 3, 1, 1, 6, 3, 5, 5, 3, 1, 3, 6, 1, 2, 5, 1, 6, 3, 1, 4, 1, 0, 7]\n",
      "Time used: 120.9 s\n",
      "Cumulated Score: -7.134\n",
      "Cumulated Score: -12.206\n",
      "Cumulated Score: -22.827\n",
      "Cumulated Score: -29.881\n",
      "Cumulated Score: -36.216\n",
      "Cumulated Score: -54.732\n",
      "Cumulated Score: -65.541\n",
      "Cumulated Score: -83.309\n",
      "Cumulated Score: -90.947\n",
      "Cumulated Score: -116.076\n",
      "Cumulated Score: -169.197\n",
      "Cumulated Score: -225.980\n",
      "Cumulated Score: -288.493\n",
      "Cumulated Score: -346.169\n",
      "Cumulated Score: -378.419\n",
      "Cumulated Score: -414.639\n",
      "Cumulated Score: -446.642\n",
      "Cumulated Score: -468.497\n",
      "Cumulated Score: -474.217\n",
      "Cumulated Score: -481.282\n",
      "Cumulated Score: -488.784\n",
      "Cumulated Score: -506.060\n",
      "Cumulated Score: -516.487\n",
      "Cumulated Score: -521.819\n",
      "Cumulated Score: -528.806\n",
      "Cumulated Score: -545.724\n",
      "Cumulated Score: -567.966\n",
      "Cumulated Score: -575.250\n",
      "Cumulated Score: -577.814\n",
      "Cumulated Score: -584.510\n",
      "Cumulated Score: -599.851\n",
      "Cumulated Score: -602.523\n",
      "Cumulated Score: -608.992\n",
      "Cumulated Score: -623.170\n",
      "Cumulated Score: -629.939\n",
      "Cumulated Score: -640.615\n",
      "Cumulated Score: -643.288\n",
      "Cumulated Score: -647.072\n",
      "Cumulated Score: -649.471\n",
      "greedy search: 0.88\n",
      "simulation: 5\tAvg scores: -558.7086753907549\n",
      "Action took: [4, 1, 6, 3, 1, 5, 7, 7, 5, 0, 1, 1, 4, 7, 0, 7, 5, 6, 5, 6, 2, 5, 7, 1, 1, 0, 2, 4, 6, 0, 6, 7, 0, 3, 0, 3, 1, 6, 2]\n",
      "Time used: 121.4 s\n",
      "Cumulated Score: -6.157\n",
      "Cumulated Score: -12.268\n",
      "Cumulated Score: -16.588\n",
      "Cumulated Score: -33.257\n",
      "Cumulated Score: -39.054\n",
      "Cumulated Score: -47.934\n",
      "Cumulated Score: -55.083\n",
      "Cumulated Score: -71.916\n",
      "Cumulated Score: -113.722\n",
      "Cumulated Score: -144.767\n",
      "Cumulated Score: -176.138\n",
      "Cumulated Score: -198.431\n",
      "Cumulated Score: -238.869\n",
      "Cumulated Score: -287.010\n",
      "Cumulated Score: -323.608\n",
      "Cumulated Score: -341.580\n",
      "Cumulated Score: -350.338\n",
      "Cumulated Score: -358.379\n",
      "Cumulated Score: -362.650\n",
      "Cumulated Score: -373.863\n",
      "Cumulated Score: -382.980\n",
      "Cumulated Score: -394.958\n",
      "Cumulated Score: -404.822\n",
      "Cumulated Score: -410.236\n",
      "Cumulated Score: -426.184\n",
      "Cumulated Score: -431.374\n",
      "Cumulated Score: -434.232\n",
      "Cumulated Score: -440.005\n",
      "Cumulated Score: -442.467\n",
      "Cumulated Score: -444.930\n",
      "Cumulated Score: -448.631\n",
      "Cumulated Score: -451.200\n",
      "Cumulated Score: -455.525\n",
      "Cumulated Score: -459.021\n",
      "Cumulated Score: -462.722\n",
      "Cumulated Score: -465.521\n",
      "Cumulated Score: -468.989\n",
      "Cumulated Score: -471.651\n",
      "Cumulated Score: -474.142\n",
      "greedy search: 0.86\n",
      "simulation: 6\tAvg scores: -544.6141491955726\n",
      "Action took: [3, 6, 1, 6, 5, 6, 2, 0, 6, 2, 5, 0, 5, 7, 6, 6, 3, 2, 1, 6, 5, 7, 7, 2, 6, 7, 1, 6, 5, 3, 3, 2, 5, 1, 4, 2, 2, 6, 7]\n",
      "Time used: 122.3 s\n",
      "Cumulated Score: -4.538\n",
      "Cumulated Score: -10.553\n",
      "Cumulated Score: -18.965\n",
      "Cumulated Score: -24.508\n",
      "Cumulated Score: -32.050\n",
      "Cumulated Score: -43.723\n",
      "Cumulated Score: -52.715\n",
      "Cumulated Score: -70.083\n",
      "Cumulated Score: -113.222\n",
      "Cumulated Score: -147.296\n",
      "Cumulated Score: -221.884\n",
      "Cumulated Score: -296.121\n",
      "Cumulated Score: -353.724\n",
      "Cumulated Score: -405.269\n",
      "Cumulated Score: -448.214\n",
      "Cumulated Score: -467.126\n",
      "Cumulated Score: -482.377\n",
      "Cumulated Score: -494.639\n",
      "Cumulated Score: -498.712\n",
      "Cumulated Score: -505.033\n",
      "Cumulated Score: -516.518\n",
      "Cumulated Score: -525.663\n",
      "Cumulated Score: -531.621\n",
      "Cumulated Score: -539.937\n",
      "Cumulated Score: -555.885\n",
      "Cumulated Score: -559.716\n",
      "Cumulated Score: -564.300\n",
      "Cumulated Score: -567.086\n",
      "Cumulated Score: -570.174\n",
      "Cumulated Score: -573.594\n",
      "Cumulated Score: -576.521\n",
      "Cumulated Score: -578.991\n",
      "Cumulated Score: -582.562\n",
      "Cumulated Score: -585.995\n",
      "Cumulated Score: -588.651\n"
     ]
    },
    {
     "name": "stdout",
     "output_type": "stream",
     "text": [
      "Cumulated Score: -591.400\n",
      "Cumulated Score: -596.446\n",
      "Cumulated Score: -599.679\n",
      "Cumulated Score: -602.632\n",
      "greedy search: 0.84\n",
      "simulation: 7\tAvg scores: -552.9024566732504\n",
      "Action took: [2, 1, 4, 1, 2, 4, 2, 0, 7, 0, 7, 6, 0, 4, 1, 1, 3, 4, 1, 2, 4, 2, 2, 2, 6, 5, 3, 1, 1, 4, 6, 2, 4, 6, 3, 2, 7, 5, 4]\n",
      "Time used: 135.0 s\n",
      "Cumulated Score: -6.124\n",
      "Cumulated Score: -12.584\n",
      "Cumulated Score: -16.911\n",
      "Cumulated Score: -23.030\n",
      "Cumulated Score: -34.308\n",
      "Cumulated Score: -42.355\n",
      "Cumulated Score: -52.175\n",
      "Cumulated Score: -69.519\n",
      "Cumulated Score: -91.492\n",
      "Cumulated Score: -113.687\n",
      "Cumulated Score: -139.993\n",
      "Cumulated Score: -153.788\n",
      "Cumulated Score: -164.192\n",
      "Cumulated Score: -174.093\n",
      "Cumulated Score: -185.354\n",
      "Cumulated Score: -193.909\n",
      "Cumulated Score: -201.930\n",
      "Cumulated Score: -209.843\n",
      "Cumulated Score: -217.927\n",
      "Cumulated Score: -245.200\n",
      "Cumulated Score: -270.848\n",
      "Cumulated Score: -287.046\n",
      "Cumulated Score: -294.578\n",
      "Cumulated Score: -300.564\n",
      "Cumulated Score: -307.824\n",
      "Cumulated Score: -313.779\n",
      "Cumulated Score: -318.816\n",
      "Cumulated Score: -322.155\n",
      "Cumulated Score: -325.750\n",
      "Cumulated Score: -332.446\n",
      "Cumulated Score: -346.584\n",
      "Cumulated Score: -355.599\n",
      "Cumulated Score: -358.615\n",
      "Cumulated Score: -362.331\n",
      "Cumulated Score: -365.488\n",
      "Cumulated Score: -368.319\n",
      "Cumulated Score: -370.614\n",
      "Cumulated Score: -373.700\n",
      "Cumulated Score: -376.095\n",
      "greedy search: 0.82\n",
      "simulation: 8\tAvg scores: -530.801558100246\n",
      "Action took: [7, 7, 2, 2, 7, 5, 4, 0, 1, 2, 5, 2, 2, 2, 5, 7, 4, 7, 0, 6, 4, 2, 3, 2, 1, 2, 2, 2, 6, 0, 0, 7, 5, 4, 7, 6, 4, 3, 2]\n",
      "Time used: 116.0 s\n",
      "Cumulated Score: -6.157\n",
      "Cumulated Score: -13.936\n",
      "Cumulated Score: -19.358\n",
      "Cumulated Score: -24.900\n",
      "Cumulated Score: -34.631\n",
      "Cumulated Score: -41.264\n",
      "Cumulated Score: -60.488\n",
      "Cumulated Score: -70.638\n",
      "Cumulated Score: -78.160\n",
      "Cumulated Score: -95.044\n",
      "Cumulated Score: -111.838\n",
      "Cumulated Score: -129.375\n",
      "Cumulated Score: -164.334\n",
      "Cumulated Score: -211.018\n",
      "Cumulated Score: -237.778\n",
      "Cumulated Score: -246.351\n",
      "Cumulated Score: -259.181\n",
      "Cumulated Score: -266.482\n",
      "Cumulated Score: -274.103\n",
      "Cumulated Score: -280.027\n",
      "Cumulated Score: -301.730\n",
      "Cumulated Score: -325.350\n",
      "Cumulated Score: -338.159\n",
      "Cumulated Score: -353.986\n",
      "Cumulated Score: -398.586\n",
      "Cumulated Score: -424.210\n",
      "Cumulated Score: -453.631\n",
      "Cumulated Score: -460.643\n",
      "Cumulated Score: -463.785\n",
      "Cumulated Score: -466.748\n",
      "Cumulated Score: -469.791\n",
      "Cumulated Score: -472.227\n",
      "Cumulated Score: -476.274\n",
      "Cumulated Score: -480.159\n",
      "Cumulated Score: -482.792\n",
      "Cumulated Score: -487.197\n",
      "Cumulated Score: -489.701\n",
      "Cumulated Score: -499.509\n",
      "Cumulated Score: -509.097\n",
      "greedy search: 0.80\n",
      "simulation: 9\tAvg scores: -528.3899953723501\n",
      "Action took: [3, 5, 4, 1, 4, 1, 5, 1, 2, 6, 4, 0, 3, 5, 3, 2, 4, 1, 6, 2, 7, 4, 6, 0, 5, 0, 4, 2, 1, 2, 1, 1, 3, 5, 1, 5, 1, 0, 3]\n",
      "Time used: 122.9 s\n",
      "Cumulated Score: -7.134\n",
      "Cumulated Score: -11.872\n",
      "Cumulated Score: -18.531\n",
      "Cumulated Score: -26.883\n",
      "Cumulated Score: -32.474\n",
      "Cumulated Score: -38.766\n",
      "Cumulated Score: -57.619\n",
      "Cumulated Score: -76.269\n",
      "Cumulated Score: -82.229\n",
      "Cumulated Score: -93.716\n",
      "Cumulated Score: -110.625\n",
      "Cumulated Score: -122.358\n",
      "Cumulated Score: -131.238\n",
      "Cumulated Score: -142.432\n",
      "Cumulated Score: -148.081\n",
      "Cumulated Score: -153.607\n",
      "Cumulated Score: -166.155\n",
      "Cumulated Score: -172.578\n",
      "Cumulated Score: -178.514\n",
      "Cumulated Score: -185.227\n",
      "Cumulated Score: -204.381\n",
      "Cumulated Score: -249.318\n",
      "Cumulated Score: -292.497\n",
      "Cumulated Score: -306.809\n",
      "Cumulated Score: -318.624\n",
      "Cumulated Score: -324.951\n",
      "Cumulated Score: -328.813\n",
      "Cumulated Score: -333.801\n",
      "Cumulated Score: -340.252\n",
      "Cumulated Score: -353.098\n",
      "Cumulated Score: -356.640\n",
      "Cumulated Score: -358.784\n",
      "Cumulated Score: -366.027\n",
      "Cumulated Score: -385.448\n",
      "Cumulated Score: -387.951\n",
      "Cumulated Score: -392.355\n",
      "Cumulated Score: -394.479\n",
      "Cumulated Score: -402.581\n",
      "Cumulated Score: -412.153\n",
      "greedy search: 0.78\n",
      "simulation: 10\tAvg scores: -516.7663447347992\n",
      "Action took: [4, 2, 5, 7, 5, 1, 7, 5, 1, 1, 4, 4, 4, 5, 2, 1, 4, 4, 3, 4, 0, 4, 2, 1, 3, 3, 2, 5, 0, 5, 4, 2, 0, 4, 2, 7, 2, 0, 3]\n",
      "Time used: 123.3 s\n",
      "Cumulated Score: -4.538\n",
      "Cumulated Score: -10.176\n",
      "Cumulated Score: -16.827\n",
      "Cumulated Score: -22.769\n",
      "Cumulated Score: -28.795\n",
      "Cumulated Score: -37.166\n",
      "Cumulated Score: -47.133\n",
      "Cumulated Score: -65.201\n",
      "Cumulated Score: -99.701\n",
      "Cumulated Score: -134.889\n",
      "Cumulated Score: -190.540\n",
      "Cumulated Score: -247.820\n",
      "Cumulated Score: -307.156\n",
      "Cumulated Score: -351.283\n",
      "Cumulated Score: -388.990\n",
      "Cumulated Score: -416.769\n",
      "Cumulated Score: -429.234\n",
      "Cumulated Score: -442.067\n",
      "Cumulated Score: -446.989\n",
      "Cumulated Score: -453.904\n",
      "Cumulated Score: -476.617\n",
      "Cumulated Score: -504.798\n",
      "Cumulated Score: -518.205\n",
      "Cumulated Score: -535.828\n",
      "Cumulated Score: -571.291\n",
      "Cumulated Score: -585.682\n",
      "Cumulated Score: -590.719\n",
      "Cumulated Score: -594.058\n",
      "Cumulated Score: -597.389\n",
      "Cumulated Score: -600.486\n",
      "Cumulated Score: -609.873\n",
      "Cumulated Score: -614.681\n",
      "Cumulated Score: -619.538\n",
      "Cumulated Score: -622.789\n",
      "Cumulated Score: -627.270\n",
      "Cumulated Score: -630.321\n",
      "Cumulated Score: -633.789\n",
      "Cumulated Score: -637.094\n",
      "Cumulated Score: -639.489\n",
      "greedy search: 0.76\n",
      "simulation: 11\tAvg scores: -519.2246260974593\n",
      "Action took: [2, 2, 5, 5, 3, 2, 2, 0, 4, 0, 2, 2, 3, 2, 4, 7, 2, 4, 2, 1, 4, 4, 1, 0, 3, 2, 2, 2, 2, 6, 0, 1, 5, 2, 7, 2, 2, 3, 2]\n",
      "Time used: 134.9 s\n",
      "Cumulated Score: -6.124\n",
      "Cumulated Score: -10.577\n",
      "Cumulated Score: -24.045\n",
      "Cumulated Score: -40.248\n",
      "Cumulated Score: -49.085\n",
      "Cumulated Score: -58.983\n",
      "Cumulated Score: -66.728\n",
      "Cumulated Score: -84.367\n",
      "Cumulated Score: -98.934\n",
      "Cumulated Score: -107.236\n",
      "Cumulated Score: -112.743\n",
      "Cumulated Score: -124.831\n",
      "Cumulated Score: -134.386\n",
      "Cumulated Score: -151.803\n",
      "Cumulated Score: -159.947\n",
      "Cumulated Score: -171.228\n",
      "Cumulated Score: -178.926\n",
      "Cumulated Score: -194.834\n",
      "Cumulated Score: -233.847\n",
      "Cumulated Score: -260.667\n",
      "Cumulated Score: -273.280\n",
      "Cumulated Score: -291.959\n",
      "Cumulated Score: -329.653\n",
      "Cumulated Score: -369.497\n",
      "Cumulated Score: -382.667\n",
      "Cumulated Score: -389.460\n",
      "Cumulated Score: -392.696\n",
      "Cumulated Score: -395.664\n",
      "Cumulated Score: -400.861\n",
      "Cumulated Score: -403.354\n",
      "Cumulated Score: -406.528\n",
      "Cumulated Score: -408.675\n",
      "Cumulated Score: -414.419\n",
      "Cumulated Score: -417.793\n",
      "Cumulated Score: -422.481\n",
      "Cumulated Score: -425.382\n",
      "Cumulated Score: -428.719\n",
      "Cumulated Score: -431.888\n",
      "Cumulated Score: -434.711\n",
      "greedy search: 0.74\n",
      "simulation: 12\tAvg scores: -498.21955655618905\n",
      "Action took: [7, 2, 0, 2, 2, 2, 1, 2, 5, 6, 2, 2, 1, 5, 2, 6, 1, 0, 7, 6, 4, 0, 3, 6, 1, 4, 1, 1, 7, 6, 5, 1, 6, 1, 6, 6, 7, 1, 1]\n",
      "Time used: 139.0 s\n",
      "Cumulated Score: -4.763\n",
      "Cumulated Score: -12.789\n",
      "Cumulated Score: -22.075\n",
      "Cumulated Score: -29.240\n",
      "Cumulated Score: -34.420\n",
      "Cumulated Score: -41.610\n",
      "Cumulated Score: -51.577\n",
      "Cumulated Score: -65.008\n",
      "Cumulated Score: -74.997\n",
      "Cumulated Score: -89.802\n",
      "Cumulated Score: -96.615\n",
      "Cumulated Score: -107.358\n",
      "Cumulated Score: -115.260\n",
      "Cumulated Score: -131.371\n",
      "Cumulated Score: -141.083\n",
      "Cumulated Score: -160.194\n",
      "Cumulated Score: -192.778\n",
      "Cumulated Score: -217.448\n",
      "Cumulated Score: -225.045\n",
      "Cumulated Score: -231.734\n",
      "Cumulated Score: -250.887\n",
      "Cumulated Score: -299.434\n",
      "Cumulated Score: -337.778\n",
      "Cumulated Score: -361.501\n",
      "Cumulated Score: -378.951\n",
      "Cumulated Score: -409.670\n",
      "Cumulated Score: -418.644\n",
      "Cumulated Score: -425.373\n",
      "Cumulated Score: -431.711\n",
      "Cumulated Score: -437.548\n",
      "Cumulated Score: -442.998\n",
      "Cumulated Score: -445.144\n",
      "Cumulated Score: -449.192\n",
      "Cumulated Score: -452.548\n",
      "Cumulated Score: -455.451\n",
      "Cumulated Score: -458.560\n",
      "Cumulated Score: -461.256\n",
      "Cumulated Score: -463.919\n",
      "Cumulated Score: -466.409\n",
      "greedy search: 0.72\n",
      "simulation: 13\tAvg scores: -494.96025305987496\n",
      "Action took: [1, 1, 5, 6, 1, 2, 2, 1, 3, 7, 1, 1, 1, 4, 5, 0, 5, 1, 4, 4, 0, 5, 0, 2, 0, 6, 1, 7, 0, 1, 5, 1, 3, 1, 1, 1, 2, 6, 7]\n",
      "Time used: 123.4 s\n",
      "Cumulated Score: -13.257\n",
      "Cumulated Score: -40.694\n",
      "Cumulated Score: -50.855\n",
      "Cumulated Score: -56.283\n",
      "Cumulated Score: -61.433\n",
      "Cumulated Score: -85.823\n",
      "Cumulated Score: -96.680\n",
      "Cumulated Score: -105.126\n",
      "Cumulated Score: -112.307\n",
      "Cumulated Score: -123.955\n",
      "Cumulated Score: -134.436\n",
      "Cumulated Score: -148.898\n",
      "Cumulated Score: -163.780\n",
      "Cumulated Score: -197.698\n",
      "Cumulated Score: -226.713\n",
      "Cumulated Score: -235.069\n",
      "Cumulated Score: -244.105\n",
      "Cumulated Score: -255.675\n",
      "Cumulated Score: -266.436\n",
      "Cumulated Score: -271.903\n",
      "Cumulated Score: -297.985\n",
      "Cumulated Score: -328.199\n"
     ]
    },
    {
     "name": "stdout",
     "output_type": "stream",
     "text": [
      "Cumulated Score: -341.055\n",
      "Cumulated Score: -348.453\n",
      "Cumulated Score: -355.439\n",
      "Cumulated Score: -362.248\n",
      "Cumulated Score: -365.836\n",
      "Cumulated Score: -368.815\n",
      "Cumulated Score: -371.903\n",
      "Cumulated Score: -374.489\n",
      "Cumulated Score: -380.009\n",
      "Cumulated Score: -382.155\n",
      "Cumulated Score: -387.006\n",
      "Cumulated Score: -391.154\n",
      "Cumulated Score: -394.042\n",
      "Cumulated Score: -397.225\n",
      "Cumulated Score: -400.177\n",
      "Cumulated Score: -407.327\n",
      "Cumulated Score: -423.522\n",
      "greedy search: 0.70\n",
      "simulation: 14\tAvg scores: -498.77220463564856\n",
      "Action took: [0, 4, 2, 4, 1, 6, 4, 1, 1, 2, 1, 3, 0, 5, 3, 1, 1, 1, 7, 1, 6, 5, 2, 1, 1, 6, 1, 1, 1, 1, 5, 1, 5, 7, 4, 4, 5, 0, 7]\n",
      "Time used: 129.0 s\n",
      "Cumulated Score: -5.314\n",
      "Cumulated Score: -10.004\n",
      "Cumulated Score: -14.399\n",
      "Cumulated Score: -22.433\n",
      "Cumulated Score: -28.475\n",
      "Cumulated Score: -40.241\n",
      "Cumulated Score: -49.226\n",
      "Cumulated Score: -59.530\n",
      "Cumulated Score: -67.394\n",
      "Cumulated Score: -93.319\n",
      "Cumulated Score: -163.104\n",
      "Cumulated Score: -221.893\n",
      "Cumulated Score: -288.285\n",
      "Cumulated Score: -336.709\n",
      "Cumulated Score: -371.216\n",
      "Cumulated Score: -383.883\n",
      "Cumulated Score: -392.919\n",
      "Cumulated Score: -404.489\n",
      "Cumulated Score: -410.734\n",
      "Cumulated Score: -417.440\n",
      "Cumulated Score: -429.890\n",
      "Cumulated Score: -456.640\n",
      "Cumulated Score: -468.359\n",
      "Cumulated Score: -478.042\n",
      "Cumulated Score: -487.326\n",
      "Cumulated Score: -491.194\n",
      "Cumulated Score: -495.731\n",
      "Cumulated Score: -498.721\n",
      "Cumulated Score: -502.269\n",
      "Cumulated Score: -504.866\n",
      "Cumulated Score: -508.992\n",
      "Cumulated Score: -511.728\n",
      "Cumulated Score: -514.737\n",
      "Cumulated Score: -517.832\n",
      "Cumulated Score: -522.047\n",
      "Cumulated Score: -524.700\n",
      "Cumulated Score: -531.102\n",
      "Cumulated Score: -544.126\n",
      "Cumulated Score: -560.975\n",
      "greedy search: 0.68\n",
      "simulation: 15\tAvg scores: -489.92257987602477\n",
      "Action took: [6, 6, 3, 5, 2, 4, 2, 1, 4, 0, 6, 1, 6, 2, 3, 1, 1, 1, 1, 1, 3, 7, 2, 4, 6, 2, 1, 1, 3, 1, 2, 2, 1, 1, 5, 1, 0, 0, 5]\n",
      "Time used: 122.6 s\n",
      "Cumulated Score: -6.124\n",
      "Cumulated Score: -10.731\n",
      "Cumulated Score: -16.023\n",
      "Cumulated Score: -32.692\n",
      "Cumulated Score: -37.898\n",
      "Cumulated Score: -46.512\n",
      "Cumulated Score: -65.889\n",
      "Cumulated Score: -76.039\n",
      "Cumulated Score: -83.355\n",
      "Cumulated Score: -95.004\n",
      "Cumulated Score: -113.918\n",
      "Cumulated Score: -147.269\n",
      "Cumulated Score: -184.670\n",
      "Cumulated Score: -200.915\n",
      "Cumulated Score: -219.325\n",
      "Cumulated Score: -245.218\n",
      "Cumulated Score: -283.612\n",
      "Cumulated Score: -312.113\n",
      "Cumulated Score: -321.031\n",
      "Cumulated Score: -327.010\n",
      "Cumulated Score: -334.827\n",
      "Cumulated Score: -356.673\n",
      "Cumulated Score: -369.423\n",
      "Cumulated Score: -386.799\n",
      "Cumulated Score: -412.734\n",
      "Cumulated Score: -425.105\n",
      "Cumulated Score: -428.473\n",
      "Cumulated Score: -431.440\n",
      "Cumulated Score: -434.528\n",
      "Cumulated Score: -437.490\n",
      "Cumulated Score: -441.091\n",
      "Cumulated Score: -443.826\n",
      "Cumulated Score: -448.450\n",
      "Cumulated Score: -451.774\n",
      "Cumulated Score: -454.332\n",
      "Cumulated Score: -457.016\n",
      "Cumulated Score: -461.485\n",
      "Cumulated Score: -464.510\n",
      "Cumulated Score: -467.138\n",
      "greedy search: 0.67\n",
      "simulation: 16\tAvg scores: -489.2221989227646\n",
      "Action took: [7, 1, 1, 6, 1, 1, 5, 1, 1, 2, 0, 3, 1, 1, 0, 2, 7, 4, 7, 6, 1, 4, 2, 0, 1, 4, 1, 1, 1, 2, 2, 2, 7, 5, 4, 1, 5, 4, 1]\n",
      "Time used: 127.9 s\n",
      "Cumulated Score: -5.314\n",
      "Cumulated Score: -10.004\n",
      "Cumulated Score: -14.324\n",
      "Cumulated Score: -23.178\n",
      "Cumulated Score: -28.761\n",
      "Cumulated Score: -36.672\n",
      "Cumulated Score: -44.418\n",
      "Cumulated Score: -57.193\n",
      "Cumulated Score: -65.171\n",
      "Cumulated Score: -75.473\n",
      "Cumulated Score: -84.541\n",
      "Cumulated Score: -104.243\n",
      "Cumulated Score: -140.078\n",
      "Cumulated Score: -173.607\n",
      "Cumulated Score: -198.409\n",
      "Cumulated Score: -220.577\n",
      "Cumulated Score: -232.362\n",
      "Cumulated Score: -247.900\n",
      "Cumulated Score: -270.314\n",
      "Cumulated Score: -283.662\n",
      "Cumulated Score: -293.984\n",
      "Cumulated Score: -309.197\n",
      "Cumulated Score: -317.774\n",
      "Cumulated Score: -329.368\n",
      "Cumulated Score: -336.572\n",
      "Cumulated Score: -340.440\n",
      "Cumulated Score: -344.978\n",
      "Cumulated Score: -349.516\n",
      "Cumulated Score: -353.754\n",
      "Cumulated Score: -356.728\n",
      "Cumulated Score: -361.124\n",
      "Cumulated Score: -363.271\n",
      "Cumulated Score: -366.615\n",
      "Cumulated Score: -374.385\n",
      "Cumulated Score: -385.178\n",
      "Cumulated Score: -388.648\n",
      "Cumulated Score: -390.943\n",
      "Cumulated Score: -393.930\n",
      "Cumulated Score: -396.530\n",
      "greedy search: 0.65\n",
      "simulation: 17\tAvg scores: -468.61196572918413\n",
      "Action took: [6, 6, 1, 1, 1, 2, 1, 1, 1, 1, 1, 0, 3, 1, 3, 7, 2, 0, 1, 1, 1, 1, 1, 6, 6, 2, 1, 2, 7, 2, 5, 1, 1, 0, 4, 6, 4, 4, 5]\n",
      "Time used: 124.4 s\n",
      "Cumulated Score: -4.538\n",
      "Cumulated Score: -10.794\n",
      "Cumulated Score: -17.844\n",
      "Cumulated Score: -24.489\n",
      "Cumulated Score: -31.395\n",
      "Cumulated Score: -39.311\n",
      "Cumulated Score: -57.131\n",
      "Cumulated Score: -108.123\n",
      "Cumulated Score: -151.694\n",
      "Cumulated Score: -187.365\n",
      "Cumulated Score: -222.460\n",
      "Cumulated Score: -244.385\n",
      "Cumulated Score: -257.021\n",
      "Cumulated Score: -264.197\n",
      "Cumulated Score: -280.589\n",
      "Cumulated Score: -290.691\n",
      "Cumulated Score: -301.145\n",
      "Cumulated Score: -307.556\n",
      "Cumulated Score: -314.454\n",
      "Cumulated Score: -322.181\n",
      "Cumulated Score: -330.120\n",
      "Cumulated Score: -342.729\n",
      "Cumulated Score: -350.681\n",
      "Cumulated Score: -356.462\n",
      "Cumulated Score: -364.139\n",
      "Cumulated Score: -369.762\n",
      "Cumulated Score: -373.549\n",
      "Cumulated Score: -380.272\n",
      "Cumulated Score: -383.552\n",
      "Cumulated Score: -386.979\n",
      "Cumulated Score: -390.767\n",
      "Cumulated Score: -393.336\n",
      "Cumulated Score: -397.660\n",
      "Cumulated Score: -400.911\n",
      "Cumulated Score: -404.224\n",
      "Cumulated Score: -407.985\n",
      "Cumulated Score: -411.316\n",
      "Cumulated Score: -414.027\n",
      "Cumulated Score: -416.931\n",
      "greedy search: 0.63\n",
      "simulation: 18\tAvg scores: -472.6955585191005\n",
      "Action took: [2, 3, 7, 6, 7, 5, 0, 5, 2, 5, 5, 5, 5, 1, 5, 5, 7, 1, 3, 5, 5, 6, 7, 5, 3, 5, 1, 7, 7, 7, 3, 2, 5, 2, 3, 3, 5, 6, 5]\n",
      "Time used: 123.2 s\n",
      "Cumulated Score: -5.314\n",
      "Cumulated Score: -14.620\n",
      "Cumulated Score: -33.089\n",
      "Cumulated Score: -40.401\n",
      "Cumulated Score: -46.187\n",
      "Cumulated Score: -52.778\n",
      "Cumulated Score: -62.321\n",
      "Cumulated Score: -76.780\n",
      "Cumulated Score: -84.429\n",
      "Cumulated Score: -92.122\n",
      "Cumulated Score: -98.429\n",
      "Cumulated Score: -109.139\n",
      "Cumulated Score: -118.414\n",
      "Cumulated Score: -129.631\n",
      "Cumulated Score: -135.798\n",
      "Cumulated Score: -143.567\n",
      "Cumulated Score: -154.239\n",
      "Cumulated Score: -164.213\n",
      "Cumulated Score: -168.845\n",
      "Cumulated Score: -175.750\n",
      "Cumulated Score: -183.589\n",
      "Cumulated Score: -201.204\n",
      "Cumulated Score: -213.002\n",
      "Cumulated Score: -229.401\n",
      "Cumulated Score: -257.319\n",
      "Cumulated Score: -273.124\n",
      "Cumulated Score: -277.331\n",
      "Cumulated Score: -280.025\n",
      "Cumulated Score: -283.886\n",
      "Cumulated Score: -290.582\n",
      "Cumulated Score: -299.908\n",
      "Cumulated Score: -307.470\n",
      "Cumulated Score: -316.935\n",
      "Cumulated Score: -319.996\n",
      "Cumulated Score: -324.211\n",
      "Cumulated Score: -326.864\n",
      "Cumulated Score: -331.333\n",
      "Cumulated Score: -334.130\n",
      "Cumulated Score: -336.952\n",
      "greedy search: 0.62\n",
      "simulation: 19\tAvg scores: -455.4809827131553\n",
      "Action took: [6, 0, 5, 6, 5, 5, 6, 5, 7, 5, 5, 6, 5, 6, 2, 5, 5, 7, 5, 5, 2, 5, 5, 0, 1, 5, 5, 1, 6, 0, 4, 0, 1, 1, 5, 1, 5, 5, 5]\n",
      "Time used: 121.8 s\n",
      "Cumulated Score: -5.314\n",
      "Cumulated Score: -10.451\n",
      "Cumulated Score: -15.308\n",
      "Cumulated Score: -20.954\n",
      "Cumulated Score: -27.434\n",
      "Cumulated Score: -43.524\n",
      "Cumulated Score: -52.677\n",
      "Cumulated Score: -80.649\n",
      "Cumulated Score: -92.148\n",
      "Cumulated Score: -117.406\n",
      "Cumulated Score: -137.610\n",
      "Cumulated Score: -146.573\n",
      "Cumulated Score: -156.179\n",
      "Cumulated Score: -169.199\n",
      "Cumulated Score: -177.546\n",
      "Cumulated Score: -182.518\n",
      "Cumulated Score: -191.554\n",
      "Cumulated Score: -204.671\n",
      "Cumulated Score: -209.032\n",
      "Cumulated Score: -215.737\n",
      "Cumulated Score: -228.712\n",
      "Cumulated Score: -256.933\n",
      "Cumulated Score: -279.803\n",
      "Cumulated Score: -300.363\n",
      "Cumulated Score: -312.462\n",
      "Cumulated Score: -318.650\n",
      "Cumulated Score: -327.340\n",
      "Cumulated Score: -330.382\n",
      "Cumulated Score: -333.985\n",
      "Cumulated Score: -336.471\n",
      "Cumulated Score: -339.431\n",
      "Cumulated Score: -341.867\n",
      "Cumulated Score: -349.675\n",
      "Cumulated Score: -362.998\n",
      "Cumulated Score: -366.351\n",
      "Cumulated Score: -369.431\n",
      "Cumulated Score: -371.642\n",
      "Cumulated Score: -374.756\n",
      "Cumulated Score: -377.579\n",
      "greedy search: 0.60\n",
      "simulation: 20\tAvg scores: -452.0235172872799\n",
      "Action took: [6, 5, 5, 3, 2, 5, 1, 5, 1, 7, 5, 5, 4, 6, 6, 1, 1, 2, 1, 1, 2, 6, 0, 1, 1, 1, 7, 1, 5, 4, 1, 1, 0, 2, 5, 7, 4, 1, 1]\n",
      "Time used: 113.8 s\n",
      "Cumulated Score: -4.763\n",
      "Cumulated Score: -13.115\n",
      "Cumulated Score: -17.815\n",
      "Cumulated Score: -35.698\n",
      "Cumulated Score: -41.239\n",
      "Cumulated Score: -49.699\n",
      "Cumulated Score: -68.552\n",
      "Cumulated Score: -83.007\n",
      "Cumulated Score: -94.839\n"
     ]
    },
    {
     "name": "stdout",
     "output_type": "stream",
     "text": [
      "Cumulated Score: -102.832\n",
      "Cumulated Score: -109.106\n",
      "Cumulated Score: -131.806\n",
      "Cumulated Score: -150.499\n",
      "Cumulated Score: -158.771\n",
      "Cumulated Score: -167.825\n",
      "Cumulated Score: -182.593\n",
      "Cumulated Score: -195.646\n",
      "Cumulated Score: -202.155\n",
      "Cumulated Score: -206.322\n",
      "Cumulated Score: -215.762\n",
      "Cumulated Score: -223.144\n",
      "Cumulated Score: -245.549\n",
      "Cumulated Score: -259.423\n",
      "Cumulated Score: -268.777\n",
      "Cumulated Score: -277.963\n",
      "Cumulated Score: -284.855\n",
      "Cumulated Score: -289.017\n",
      "Cumulated Score: -294.789\n",
      "Cumulated Score: -297.293\n",
      "Cumulated Score: -300.079\n",
      "Cumulated Score: -305.183\n",
      "Cumulated Score: -307.641\n",
      "Cumulated Score: -311.689\n",
      "Cumulated Score: -315.045\n",
      "Cumulated Score: -319.261\n",
      "Cumulated Score: -321.914\n",
      "Cumulated Score: -324.773\n",
      "Cumulated Score: -329.721\n",
      "Cumulated Score: -331.872\n",
      "greedy search: 0.59\n",
      "simulation: 21\tAvg scores: -421.2617954281369\n",
      "Action took: [1, 2, 1, 7, 1, 1, 7, 3, 7, 4, 1, 5, 3, 1, 1, 4, 6, 3, 1, 5, 1, 4, 1, 2, 2, 3, 1, 6, 6, 1, 6, 1, 3, 1, 5, 1, 1, 7, 2]\n",
      "Time used: 109.2 s\n",
      "Cumulated Score: -4.763\n",
      "Cumulated Score: -12.789\n",
      "Cumulated Score: -23.031\n",
      "Cumulated Score: -28.623\n",
      "Cumulated Score: -34.122\n",
      "Cumulated Score: -43.467\n",
      "Cumulated Score: -51.967\n",
      "Cumulated Score: -63.433\n",
      "Cumulated Score: -70.533\n",
      "Cumulated Score: -93.369\n",
      "Cumulated Score: -157.400\n",
      "Cumulated Score: -220.551\n",
      "Cumulated Score: -269.463\n",
      "Cumulated Score: -297.368\n",
      "Cumulated Score: -324.087\n",
      "Cumulated Score: -332.264\n",
      "Cumulated Score: -346.375\n",
      "Cumulated Score: -365.387\n",
      "Cumulated Score: -370.338\n",
      "Cumulated Score: -376.590\n",
      "Cumulated Score: -396.994\n",
      "Cumulated Score: -435.156\n",
      "Cumulated Score: -473.968\n",
      "Cumulated Score: -503.208\n",
      "Cumulated Score: -518.421\n",
      "Cumulated Score: -522.962\n",
      "Cumulated Score: -529.884\n",
      "Cumulated Score: -533.756\n",
      "Cumulated Score: -536.470\n",
      "Cumulated Score: -542.870\n",
      "Cumulated Score: -549.764\n",
      "Cumulated Score: -552.269\n",
      "Cumulated Score: -555.613\n",
      "Cumulated Score: -560.046\n",
      "Cumulated Score: -566.977\n",
      "Cumulated Score: -574.524\n",
      "Cumulated Score: -577.352\n",
      "Cumulated Score: -580.411\n",
      "Cumulated Score: -583.234\n",
      "greedy search: 0.57\n",
      "simulation: 22\tAvg scores: -436.1141256941661\n",
      "Action took: [1, 1, 7, 1, 1, 1, 1, 1, 1, 0, 5, 4, 1, 1, 5, 1, 3, 6, 5, 3, 0, 2, 1, 6, 7, 3, 7, 7, 2, 0, 1, 1, 1, 2, 0, 1, 1, 1, 1]\n",
      "Time used: 111.4 s\n",
      "Cumulated Score: -4.763\n",
      "Cumulated Score: -16.775\n",
      "Cumulated Score: -21.443\n",
      "Cumulated Score: -31.017\n",
      "Cumulated Score: -44.361\n",
      "Cumulated Score: -81.998\n",
      "Cumulated Score: -116.657\n",
      "Cumulated Score: -140.340\n",
      "Cumulated Score: -151.778\n",
      "Cumulated Score: -160.715\n",
      "Cumulated Score: -170.299\n",
      "Cumulated Score: -178.434\n",
      "Cumulated Score: -194.685\n",
      "Cumulated Score: -202.498\n",
      "Cumulated Score: -211.868\n",
      "Cumulated Score: -217.909\n",
      "Cumulated Score: -229.972\n",
      "Cumulated Score: -238.366\n",
      "Cumulated Score: -244.277\n",
      "Cumulated Score: -250.983\n",
      "Cumulated Score: -260.596\n",
      "Cumulated Score: -275.809\n",
      "Cumulated Score: -284.386\n",
      "Cumulated Score: -291.294\n",
      "Cumulated Score: -298.280\n",
      "Cumulated Score: -315.198\n",
      "Cumulated Score: -332.315\n"
     ]
    },
    {
     "ename": "KeyboardInterrupt",
     "evalue": "",
     "output_type": "error",
     "traceback": [
      "\u001b[1;31m---------------------------------------------------------------------------\u001b[0m",
      "\u001b[1;31mKeyboardInterrupt\u001b[0m                         Traceback (most recent call last)",
      "\u001b[1;32m<ipython-input-60-5ddab37efc84>\u001b[0m in \u001b[0;36m<module>\u001b[1;34m()\u001b[0m\n\u001b[1;32m----> 1\u001b[1;33m \u001b[0mres\u001b[0m \u001b[1;33m=\u001b[0m \u001b[0mmain_train\u001b[0m\u001b[1;33m(\u001b[0m\u001b[1;33m)\u001b[0m\u001b[1;33m\u001b[0m\u001b[0m\n\u001b[0m",
      "\u001b[1;32m<ipython-input-59-46e32a627470>\u001b[0m in \u001b[0;36mmain_train\u001b[1;34m(total_sim, max_ts, eps_start, eps_end, eps_decay)\u001b[0m\n\u001b[0;32m     26\u001b[0m             \u001b[1;31m# start play\u001b[0m\u001b[1;33m\u001b[0m\u001b[1;33m\u001b[0m\u001b[0m\n\u001b[0;32m     27\u001b[0m             \u001b[0maction\u001b[0m \u001b[1;33m=\u001b[0m \u001b[0magent\u001b[0m\u001b[1;33m.\u001b[0m\u001b[0mact\u001b[0m\u001b[1;33m(\u001b[0m\u001b[0mstate\u001b[0m\u001b[1;33m,\u001b[0m \u001b[0meps\u001b[0m\u001b[1;33m)\u001b[0m\u001b[1;33m\u001b[0m\u001b[0m\n\u001b[1;32m---> 28\u001b[1;33m             \u001b[0mnext_state\u001b[0m\u001b[1;33m,\u001b[0m \u001b[0mreward\u001b[0m\u001b[1;33m,\u001b[0m \u001b[0mdone\u001b[0m\u001b[1;33m,\u001b[0m \u001b[0mevaluate_df\u001b[0m \u001b[1;33m=\u001b[0m \u001b[0menv\u001b[0m\u001b[1;33m.\u001b[0m\u001b[0mstep\u001b[0m\u001b[1;33m(\u001b[0m\u001b[0maction\u001b[0m\u001b[1;33m,\u001b[0m \u001b[0mtime_step\u001b[0m\u001b[1;33m)\u001b[0m\u001b[1;33m\u001b[0m\u001b[0m\n\u001b[0m\u001b[0;32m     29\u001b[0m             \u001b[0magent\u001b[0m\u001b[1;33m.\u001b[0m\u001b[0mstep\u001b[0m\u001b[1;33m(\u001b[0m\u001b[0mstate\u001b[0m\u001b[1;33m,\u001b[0m \u001b[0maction\u001b[0m\u001b[1;33m,\u001b[0m \u001b[0mreward\u001b[0m\u001b[1;33m,\u001b[0m \u001b[0mnext_state\u001b[0m\u001b[1;33m,\u001b[0m \u001b[0mdone\u001b[0m\u001b[1;33m)\u001b[0m\u001b[1;33m\u001b[0m\u001b[0m\n\u001b[0;32m     30\u001b[0m             \u001b[0mstate\u001b[0m \u001b[1;33m=\u001b[0m \u001b[0mnext_state\u001b[0m\u001b[1;33m\u001b[0m\u001b[0m\n",
      "\u001b[1;32m<ipython-input-23-afbd936922c1>\u001b[0m in \u001b[0;36mstep\u001b[1;34m(self, id_action, sim_break)\u001b[0m\n\u001b[0;32m     40\u001b[0m         \u001b[0mSim_break_at\u001b[0m \u001b[1;33m=\u001b[0m \u001b[0msim_break\u001b[0m\u001b[1;33m\u001b[0m\u001b[0m\n\u001b[0;32m     41\u001b[0m         \u001b[0mVissim\u001b[0m\u001b[1;33m.\u001b[0m\u001b[0mSimulation\u001b[0m\u001b[1;33m.\u001b[0m\u001b[0mSetAttValue\u001b[0m\u001b[1;33m(\u001b[0m\u001b[1;34m'SimBreakAt'\u001b[0m\u001b[1;33m,\u001b[0m \u001b[0mSim_break_at\u001b[0m\u001b[1;33m)\u001b[0m\u001b[1;33m\u001b[0m\u001b[0m\n\u001b[1;32m---> 42\u001b[1;33m         \u001b[0mVissim\u001b[0m\u001b[1;33m.\u001b[0m\u001b[0mSimulation\u001b[0m\u001b[1;33m.\u001b[0m\u001b[0mRunContinuous\u001b[0m\u001b[1;33m(\u001b[0m\u001b[1;33m)\u001b[0m\u001b[1;33m\u001b[0m\u001b[0m\n\u001b[0m\u001b[0;32m     43\u001b[0m \u001b[1;33m\u001b[0m\u001b[0m\n\u001b[0;32m     44\u001b[0m         \u001b[0mreward\u001b[0m \u001b[1;33m=\u001b[0m \u001b[1;36m0.0\u001b[0m\u001b[1;33m\u001b[0m\u001b[0m\n",
      "\u001b[1;32m~\\AppData\\Local\\Temp\\gen_py\\3.5\\88F49AEC-253A-4F8B-A06D-9EA631AACA09x0x10x0\\ISimulation.py\u001b[0m in \u001b[0;36mRunContinuous\u001b[1;34m(self)\u001b[0m\n\u001b[0;32m     39\u001b[0m         \u001b[1;32mdef\u001b[0m \u001b[0mRunContinuous\u001b[0m\u001b[1;33m(\u001b[0m\u001b[0mself\u001b[0m\u001b[1;33m)\u001b[0m\u001b[1;33m:\u001b[0m\u001b[1;33m\u001b[0m\u001b[0m\n\u001b[0;32m     40\u001b[0m                 \u001b[1;34m'Starts a simulation run in continuous form.'\u001b[0m\u001b[1;33m\u001b[0m\u001b[0m\n\u001b[1;32m---> 41\u001b[1;33m                 \u001b[1;32mreturn\u001b[0m \u001b[0mself\u001b[0m\u001b[1;33m.\u001b[0m\u001b[0m_oleobj_\u001b[0m\u001b[1;33m.\u001b[0m\u001b[0mInvokeTypes\u001b[0m\u001b[1;33m(\u001b[0m\u001b[1;36m1610874880\u001b[0m\u001b[1;33m,\u001b[0m \u001b[0mLCID\u001b[0m\u001b[1;33m,\u001b[0m \u001b[1;36m1\u001b[0m\u001b[1;33m,\u001b[0m \u001b[1;33m(\u001b[0m\u001b[1;36m24\u001b[0m\u001b[1;33m,\u001b[0m \u001b[1;36m0\u001b[0m\u001b[1;33m)\u001b[0m\u001b[1;33m,\u001b[0m \u001b[1;33m(\u001b[0m\u001b[1;33m)\u001b[0m\u001b[1;33m,\u001b[0m\u001b[1;33m)\u001b[0m\u001b[1;33m\u001b[0m\u001b[0m\n\u001b[0m\u001b[0;32m     42\u001b[0m \u001b[1;33m\u001b[0m\u001b[0m\n\u001b[0;32m     43\u001b[0m         \u001b[1;32mdef\u001b[0m \u001b[0mRunSingleStep\u001b[0m\u001b[1;33m(\u001b[0m\u001b[0mself\u001b[0m\u001b[1;33m)\u001b[0m\u001b[1;33m:\u001b[0m\u001b[1;33m\u001b[0m\u001b[0m\n",
      "\u001b[1;31mKeyboardInterrupt\u001b[0m: "
     ]
    }
   ],
   "source": [
    "res = main_train()"
   ]
  },
  {
   "cell_type": "code",
   "execution_count": null,
   "metadata": {
    "collapsed": true
   },
   "outputs": [],
   "source": [
    "track_scores = res[0]\n",
    "track_scores = np.vstack(track_scores)\n",
    "track_action = res[1]\n",
    "track_action = np.vstack(track_action)"
   ]
  },
  {
   "cell_type": "code",
   "execution_count": 207,
   "metadata": {
    "collapsed": true
   },
   "outputs": [],
   "source": [
    "def window_avg(x, window_size):\n",
    "    avg_mask = np.ones(window_size) / window_size\n",
    "    x_avg = np.convolve(x, avg_mask, 'same')\n",
    "    x_avg[0] = x_avg[1]\n",
    "    x_avg[-1] = x_avg[-2]\n",
    "    return x_avg"
   ]
  },
  {
   "cell_type": "code",
   "execution_count": 213,
   "metadata": {},
   "outputs": [
    {
     "data": {
      "image/png": "[encoded data removed]",
      "text/plain": [
       "<Figure size 432x288 with 1 Axes>"
      ]
     },
     "metadata": {},
     "output_type": "display_data"
    }
   ],
   "source": [
    "fig = plt.figure()#figsize=(10, 6))\n",
    "plt.plot(np.arange(len(track_scores)), track_scores, color='b')\n",
    "plt.plot(np.arange(len(track_scores)), window_avg(track_scores.squeeze(),4), color='r')\n",
    "plt.ylabel('Scores (delay+total stop)')\n",
    "plt.xlabel('Episode (simulation)')\n",
    "plt.ylim()\n",
    "plt.title('VSL Agent Training')\n",
    "plt.show()\n",
    "#fig.savefig('result/train_plot.png', bbox_inches = 'tight')"
   ]
  },
  {
   "cell_type": "code",
   "execution_count": null,
   "metadata": {
    "collapsed": true
   },
   "outputs": [],
   "source": [
    "# save the result\n",
    "track_score = pd.DataFrame(track_scores)\n",
    "track_score.to_csv('data/track_score_final2.csv', index=None, header=None)\n",
    "# save the result\n",
    "track_actions = pd.DataFrame(track_action)\n",
    "track_actions.to_csv('data/track_action_final2.csv', index=None, header=None)"
   ]
  },
  {
   "cell_type": "code",
   "execution_count": null,
   "metadata": {
    "collapsed": true
   },
   "outputs": [],
   "source": [
    "track_score.read_csv()"
   ]
  },
  {
   "cell_type": "markdown",
   "metadata": {},
   "source": [
    "### Model Evaluation"
   ]
  },
  {
   "cell_type": "code",
   "execution_count": 62,
   "metadata": {
    "collapsed": true
   },
   "outputs": [],
   "source": [
    "# Model Evaluation\n",
    "fix_vissim_seed = np.random.randint(1, 10**2, 10)\n",
    "def model_test(test_type, test_sim=2, max_ts=1500, preset_vissim_seed=fix_vissim_seed):\n",
    "    # initialize the enviroinment\n",
    "    env = vissim_environment()\n",
    "    env.stop()\n",
    "    \n",
    "    # load the trained agent\n",
    "    agent = VSL_Agent(state_space=8, action_space=8, seed=20)\n",
    "    agent.Qnet_eval.load_state_dict(torch.load('trained_model/model_vsl.pth'))\n",
    "    \n",
    "    test_evaluate = [] # evaluation act_vehicle, exit_vehicle, delay, stop, tt\n",
    "    test_scores = [] # store the test score\n",
    "    test_vsl = []  # track the changes for vsl\n",
    "    collect_info = [] # store the data colection info for each simulation\n",
    "\n",
    "    for i_test in range(1, test_sim+1):\n",
    "        start = time.time()\n",
    "        \n",
    "        state, _, evaluate_df = env.reset(initial_speed=65, vissim_seed=815)\n",
    "        \n",
    "        score = 0.0\n",
    "        action_sim = []\n",
    "        evaluate_sim = []\n",
    "\n",
    "        # total length is 12600 seconds for 1 simulation, break at each 5-mins\n",
    "        for time_step in range(1200, max_ts, 300):\n",
    "            if test_type == 'fixed':\n",
    "                action = 4 # 65 mph\n",
    "            else:\n",
    "                action = agent.act(state, eps=0.)\n",
    "            \n",
    "            state, reward, done, evaluate_df = env.step(action, time_step)\n",
    "            score += reward\n",
    "            # track vsl changes\n",
    "            action_sim.append(action)\n",
    "            # track link network performance\n",
    "            evaluate_sim.append(evaluate_df)\n",
    "\n",
    "            if done:\n",
    "                break\n",
    "\n",
    "        test_scores.append(score)\n",
    "        test_vsl.append(action_sim)\n",
    "        test_evaluate.append(evaluate_sim)\n",
    "        # data collection info for entire simulation\n",
    "        collect_info.append(speed_dist())\n",
    "\n",
    "        end = time.time()\n",
    "\n",
    "        print('simulation {}'.format(i_test))\n",
    "        print('Time used: {}s'.format(round(end-start, 1)))\n",
    "\n",
    "    return test_scores, test_vsl, test_evaluate, collect_info"
   ]
  },
  {
   "cell_type": "code",
   "execution_count": 63,
   "metadata": {},
   "outputs": [
    {
     "data": {
      "text/plain": [
       "array([37, 88, 50, 67, 43, 90, 33, 97, 56, 11])"
      ]
     },
     "execution_count": 63,
     "metadata": {},
     "output_type": "execute_result"
    }
   ],
   "source": [
    "fix_vissim_seed"
   ]
  },
  {
   "cell_type": "code",
   "execution_count": 64,
   "metadata": {
    "scrolled": true
   },
   "outputs": [
    {
     "ename": "KeyboardInterrupt",
     "evalue": "",
     "output_type": "error",
     "traceback": [
      "\u001b[1;31m---------------------------------------------------------------------------\u001b[0m",
      "\u001b[1;31mKeyboardInterrupt\u001b[0m                         Traceback (most recent call last)",
      "\u001b[1;32m<ipython-input-64-70d50046b75c>\u001b[0m in \u001b[0;36m<module>\u001b[1;34m()\u001b[0m\n\u001b[1;32m----> 1\u001b[1;33m \u001b[0md_scores\u001b[0m\u001b[1;33m,\u001b[0m \u001b[0md_vsl\u001b[0m\u001b[1;33m,\u001b[0m \u001b[0md_evaluate\u001b[0m\u001b[1;33m,\u001b[0m \u001b[0md_info\u001b[0m \u001b[1;33m=\u001b[0m \u001b[0mmodel_test\u001b[0m\u001b[1;33m(\u001b[0m\u001b[0mtest_type\u001b[0m\u001b[1;33m=\u001b[0m\u001b[1;34m'dynamic'\u001b[0m\u001b[1;33m,\u001b[0m \u001b[0mtest_sim\u001b[0m\u001b[1;33m=\u001b[0m\u001b[1;36m2\u001b[0m\u001b[1;33m,\u001b[0m \u001b[0mmax_ts\u001b[0m\u001b[1;33m=\u001b[0m\u001b[1;36m12900\u001b[0m\u001b[1;33m)\u001b[0m\u001b[1;33m\u001b[0m\u001b[0m\n\u001b[0m",
      "\u001b[1;32m<ipython-input-62-99d9e15aa760>\u001b[0m in \u001b[0;36mmodel_test\u001b[1;34m(test_type, test_sim, max_ts, preset_vissim_seed)\u001b[0m\n\u001b[0;32m     31\u001b[0m                 \u001b[0maction\u001b[0m \u001b[1;33m=\u001b[0m \u001b[0magent\u001b[0m\u001b[1;33m.\u001b[0m\u001b[0mact\u001b[0m\u001b[1;33m(\u001b[0m\u001b[0mstate\u001b[0m\u001b[1;33m,\u001b[0m \u001b[0meps\u001b[0m\u001b[1;33m=\u001b[0m\u001b[1;36m0.\u001b[0m\u001b[1;33m)\u001b[0m\u001b[1;33m\u001b[0m\u001b[0m\n\u001b[0;32m     32\u001b[0m \u001b[1;33m\u001b[0m\u001b[0m\n\u001b[1;32m---> 33\u001b[1;33m             \u001b[0mstate\u001b[0m\u001b[1;33m,\u001b[0m \u001b[0mreward\u001b[0m\u001b[1;33m,\u001b[0m \u001b[0mdone\u001b[0m\u001b[1;33m,\u001b[0m \u001b[0mevaluate_df\u001b[0m \u001b[1;33m=\u001b[0m \u001b[0menv\u001b[0m\u001b[1;33m.\u001b[0m\u001b[0mstep\u001b[0m\u001b[1;33m(\u001b[0m\u001b[0maction\u001b[0m\u001b[1;33m,\u001b[0m \u001b[0mtime_step\u001b[0m\u001b[1;33m)\u001b[0m\u001b[1;33m\u001b[0m\u001b[0m\n\u001b[0m\u001b[0;32m     34\u001b[0m             \u001b[0mscore\u001b[0m \u001b[1;33m+=\u001b[0m \u001b[0mreward\u001b[0m\u001b[1;33m\u001b[0m\u001b[0m\n\u001b[0;32m     35\u001b[0m             \u001b[1;31m# track vsl changes\u001b[0m\u001b[1;33m\u001b[0m\u001b[1;33m\u001b[0m\u001b[0m\n",
      "\u001b[1;32m<ipython-input-23-afbd936922c1>\u001b[0m in \u001b[0;36mstep\u001b[1;34m(self, id_action, sim_break)\u001b[0m\n\u001b[0;32m     40\u001b[0m         \u001b[0mSim_break_at\u001b[0m \u001b[1;33m=\u001b[0m \u001b[0msim_break\u001b[0m\u001b[1;33m\u001b[0m\u001b[0m\n\u001b[0;32m     41\u001b[0m         \u001b[0mVissim\u001b[0m\u001b[1;33m.\u001b[0m\u001b[0mSimulation\u001b[0m\u001b[1;33m.\u001b[0m\u001b[0mSetAttValue\u001b[0m\u001b[1;33m(\u001b[0m\u001b[1;34m'SimBreakAt'\u001b[0m\u001b[1;33m,\u001b[0m \u001b[0mSim_break_at\u001b[0m\u001b[1;33m)\u001b[0m\u001b[1;33m\u001b[0m\u001b[0m\n\u001b[1;32m---> 42\u001b[1;33m         \u001b[0mVissim\u001b[0m\u001b[1;33m.\u001b[0m\u001b[0mSimulation\u001b[0m\u001b[1;33m.\u001b[0m\u001b[0mRunContinuous\u001b[0m\u001b[1;33m(\u001b[0m\u001b[1;33m)\u001b[0m\u001b[1;33m\u001b[0m\u001b[0m\n\u001b[0m\u001b[0;32m     43\u001b[0m \u001b[1;33m\u001b[0m\u001b[0m\n\u001b[0;32m     44\u001b[0m         \u001b[0mreward\u001b[0m \u001b[1;33m=\u001b[0m \u001b[1;36m0.0\u001b[0m\u001b[1;33m\u001b[0m\u001b[0m\n",
      "\u001b[1;32m~\\AppData\\Local\\Temp\\gen_py\\3.5\\88F49AEC-253A-4F8B-A06D-9EA631AACA09x0x10x0\\ISimulation.py\u001b[0m in \u001b[0;36mRunContinuous\u001b[1;34m(self)\u001b[0m\n\u001b[0;32m     39\u001b[0m         \u001b[1;32mdef\u001b[0m \u001b[0mRunContinuous\u001b[0m\u001b[1;33m(\u001b[0m\u001b[0mself\u001b[0m\u001b[1;33m)\u001b[0m\u001b[1;33m:\u001b[0m\u001b[1;33m\u001b[0m\u001b[0m\n\u001b[0;32m     40\u001b[0m                 \u001b[1;34m'Starts a simulation run in continuous form.'\u001b[0m\u001b[1;33m\u001b[0m\u001b[0m\n\u001b[1;32m---> 41\u001b[1;33m                 \u001b[1;32mreturn\u001b[0m \u001b[0mself\u001b[0m\u001b[1;33m.\u001b[0m\u001b[0m_oleobj_\u001b[0m\u001b[1;33m.\u001b[0m\u001b[0mInvokeTypes\u001b[0m\u001b[1;33m(\u001b[0m\u001b[1;36m1610874880\u001b[0m\u001b[1;33m,\u001b[0m \u001b[0mLCID\u001b[0m\u001b[1;33m,\u001b[0m \u001b[1;36m1\u001b[0m\u001b[1;33m,\u001b[0m \u001b[1;33m(\u001b[0m\u001b[1;36m24\u001b[0m\u001b[1;33m,\u001b[0m \u001b[1;36m0\u001b[0m\u001b[1;33m)\u001b[0m\u001b[1;33m,\u001b[0m \u001b[1;33m(\u001b[0m\u001b[1;33m)\u001b[0m\u001b[1;33m,\u001b[0m\u001b[1;33m)\u001b[0m\u001b[1;33m\u001b[0m\u001b[0m\n\u001b[0m\u001b[0;32m     42\u001b[0m \u001b[1;33m\u001b[0m\u001b[0m\n\u001b[0;32m     43\u001b[0m         \u001b[1;32mdef\u001b[0m \u001b[0mRunSingleStep\u001b[0m\u001b[1;33m(\u001b[0m\u001b[0mself\u001b[0m\u001b[1;33m)\u001b[0m\u001b[1;33m:\u001b[0m\u001b[1;33m\u001b[0m\u001b[0m\n",
      "\u001b[1;31mKeyboardInterrupt\u001b[0m: "
     ]
    }
   ],
   "source": [
    "d_scores, d_vsl, d_evaluate, d_info = model_test(test_type='dynamic', test_sim=2, max_ts=12900)"
   ]
  },
  {
   "cell_type": "code",
   "execution_count": 39,
   "metadata": {
    "scrolled": true
   },
   "outputs": [
    {
     "name": "stdout",
     "output_type": "stream",
     "text": [
      "simulation 1\n",
      "Time used: 122.8s\n"
     ]
    }
   ],
   "source": [
    "f_scores, f_vsl, f_evaluate, f_info = model_test(test_type='fixed', test_sim=1, max_ts=12900)"
   ]
  },
  {
   "cell_type": "code",
   "execution_count": 40,
   "metadata": {},
   "outputs": [
    {
     "data": {
      "text/plain": [
       "[array([-242.92851004])]"
      ]
     },
     "execution_count": 40,
     "metadata": {},
     "output_type": "execute_result"
    }
   ],
   "source": [
    "f_scores"
   ]
  },
  {
   "cell_type": "code",
   "execution_count": 224,
   "metadata": {
    "collapsed": true
   },
   "outputs": [],
   "source": [
    "import pickle"
   ]
  },
  {
   "cell_type": "code",
   "execution_count": 225,
   "metadata": {
    "collapsed": true
   },
   "outputs": [],
   "source": [
    "d_dict = {'d_scores':d_scores, 'd_vsl':d_vsl, 'd_evaluate':d_evaluate, 'd_info':d_info}\n",
    "d_outfile = open('data/d_res','wb')\n",
    "pickle.dump(d_dict,d_outfile)"
   ]
  },
  {
   "cell_type": "code",
   "execution_count": 226,
   "metadata": {
    "collapsed": true
   },
   "outputs": [],
   "source": [
    "f_dict = {'f_scores':f_scores, 'f_vsl':f_vsl, 'f_evaluate':f_evaluate, 'f_info':f_info}\n",
    "f_outfile = open('data/f_res','wb')\n",
    "pickle.dump(f_dict,f_outfile)"
   ]
  },
  {
   "cell_type": "code",
   "execution_count": null,
   "metadata": {
    "collapsed": true
   },
   "outputs": [],
   "source": []
  },
  {
   "cell_type": "code",
   "execution_count": 231,
   "metadata": {},
   "outputs": [
    {
     "data": {
      "image/png": "[encoded data removed]",
      "text/plain": [
       "<Figure size 1296x360 with 15 Axes>"
      ]
     },
     "metadata": {},
     "output_type": "display_data"
    }
   ],
   "source": [
    "eval_start = 0\n",
    "eval_end = 3\n",
    "\n",
    "ff_evaluate = f_evaluate[eval_start:eval_end]\n",
    "dd_evaluate = d_evaluate[eval_start:eval_end]\n",
    "\n",
    "column_name = ['active_vehicle', 'arrived_vehicle', 'avg_delay','avg_stop', 'tt']\n",
    "total_simlation = eval_end-eval_start\n",
    "\n",
    "fig = plt.figure(figsize=(18,5))\n",
    "gs = gridspec.GridSpec(total_simlation, len(column_name), wspace=0.2, hspace=0.3)\n",
    "\n",
    "for id_sim in range(total_simlation):\n",
    "    ff = pd.DataFrame(np.array(ff_evaluate[id_sim]),columns=column_name)\n",
    "    dd = pd.DataFrame(np.array(dd_evaluate[id_sim]),columns=column_name)\n",
    "    for i in range(len(ff.columns)):\n",
    "        plt.subplot(gs[id_sim,i])\n",
    "        plt.title('{}'.format(ff.columns[i]))\n",
    "        plt.plot(np.arange(len(ff)), ff[ff.columns[i]], linestyle='-', color = 'black', label='fixed SL')\n",
    "        plt.plot(np.arange(len(dd)), dd[dd.columns[i]], linestyle='--', color = 'black', label='Dynamic SL')\n",
    "        plt.legend(loc='upper right')\n",
    "        #plt.imshow(dsts[i])\n",
    "#plt.suptitle('Simulation {}'.format(id_sim))\n",
    "plt.show()"
   ]
  },
  {
   "cell_type": "code",
   "execution_count": 227,
   "metadata": {
    "collapsed": true
   },
   "outputs": [],
   "source": [
    "d_scores = np.array(d_scores)"
   ]
  },
  {
   "cell_type": "code",
   "execution_count": 228,
   "metadata": {
    "collapsed": true
   },
   "outputs": [],
   "source": [
    "f_scores = np.array(f_scores)"
   ]
  },
  {
   "cell_type": "code",
   "execution_count": 229,
   "metadata": {},
   "outputs": [
    {
     "data": {
      "image/png": "[encoded data removed]",
      "text/plain": [
       "<Figure size 1080x432 with 1 Axes>"
      ]
     },
     "metadata": {},
     "output_type": "display_data"
    }
   ],
   "source": [
    "fig = plt.figure(figsize=(15, 6))\n",
    "plt.plot(np.arange(len(d_scores)), d_scores, linestyle='--', color = 'black', label='Dynamic SL')\n",
    "plt.plot(np.arange(len(f_scores)), f_scores, linestyle='-', color = 'black', label='fixed SL')\n",
    "plt.ylabel('Scores (delay+total stop)')\n",
    "plt.xlabel('Episode (simulation)')\n",
    "plt.ylim()\n",
    "plt.title('VSL Agent Training')\n",
    "plt.show()"
   ]
  },
  {
   "cell_type": "code",
   "execution_count": 142,
   "metadata": {},
   "outputs": [
    {
     "data": {
      "image/png": "[encoded data removed]",
      "text/plain": [
       "<Figure size 432x288 with 2 Axes>"
      ]
     },
     "metadata": {},
     "output_type": "display_data"
    }
   ],
   "source": [
    "speed_heat = povit_shape(d_info[5])\n",
    "plt.figure(figsize=(6, 4))\n",
    "sns.heatmap(speed_heat, cmap=my_cmap,cbar=True, vmin=10, vmax=70)\n",
    "plt.show()"
   ]
  },
  {
   "cell_type": "code",
   "execution_count": 141,
   "metadata": {},
   "outputs": [
    {
     "data": {
      "image/png": "[encoded data removed]",
      "text/plain": [
       "<Figure size 432x288 with 2 Axes>"
      ]
     },
     "metadata": {},
     "output_type": "display_data"
    }
   ],
   "source": [
    "speed_heat = povit_shape(f_info[5])\n",
    "plt.figure(figsize=(6, 4))\n",
    "sns.heatmap(speed_heat, cmap=my_cmap,cbar=True, vmin=10, vmax=70)\n",
    "plt.show()"
   ]
  },
  {
   "cell_type": "code",
   "execution_count": null,
   "metadata": {
    "collapsed": true
   },
   "outputs": [],
   "source": []
  },
  {
   "cell_type": "code",
   "execution_count": null,
   "metadata": {
    "collapsed": true
   },
   "outputs": [],
   "source": [
    "# RL Evaluation\n",
    "def model_test():\n",
    "    env = vissim_environment()\n",
    "    env.stop()\n",
    "    # initialize agent\n",
    "    agent = VSL_Agent(state_space=8, action_space=8, seed=20)\n",
    "    agent.Qnet_eval.load_state_dict(torch.load('trained_model/vsl_rl_model.pth'))\n",
    "    \n",
    "    \n",
    "    evaluate = [] # evaluation act_vehicle, exit_vehicle, delay, stop, tt\n",
    "    test_scores = []\n",
    "    vsl_set = []\n",
    "    \n",
    "    test_sim = 2\n",
    "    max_ts = 12900\n",
    "    for i_test in range(1, test_sim):\n",
    "        start = time.time()\n",
    "        state, _, evaluate_df = env.reset(initial_speed=85)\n",
    "        \n",
    "        score = 0.0\n",
    "        action_set = []\n",
    "        evl_vec = []\n",
    "        # total length is 12600 seconds for 1 simulation, break at each 5-mins\n",
    "        for time_step in range(1200, max_ts, 300):\n",
    "            action = agent.act(state, eps=1.0)\n",
    "            state, reward, done, evaluate_df = env.step(action, time_step)\n",
    "            score += reward\n",
    "            # track vsl changes\n",
    "            action_set.append(action)\n",
    "            # track link performance\n",
    "            evl_vec.append(evaluate_df)\n",
    "            if done:\n",
    "                break\n",
    "        test_scores.append(score)\n",
    "        vsl_set.append(action_set)\n",
    "        evaluate.append(evl_vec)\n",
    "        end = time.time()\n",
    "        print('simulation {}'.format(i_test))\n",
    "        print('Time used: {}s'.format(round(end-start, 1)))\n",
    "        \n",
    "    return test_scores, vsl_set, evl_vec"
   ]
  },
  {
   "cell_type": "code",
   "execution_count": null,
   "metadata": {
    "collapsed": true
   },
   "outputs": [],
   "source": []
  },
  {
   "cell_type": "code",
   "execution_count": null,
   "metadata": {
    "collapsed": true
   },
   "outputs": [],
   "source": []
  },
  {
   "cell_type": "code",
   "execution_count": null,
   "metadata": {
    "collapsed": true
   },
   "outputs": [],
   "source": []
  },
  {
   "cell_type": "code",
   "execution_count": null,
   "metadata": {
    "collapsed": true
   },
   "outputs": [],
   "source": []
  },
  {
   "cell_type": "code",
   "execution_count": null,
   "metadata": {
    "collapsed": true
   },
   "outputs": [],
   "source": []
  },
  {
   "cell_type": "code",
   "execution_count": null,
   "metadata": {
    "collapsed": true
   },
   "outputs": [],
   "source": []
  }
 ],
 "metadata": {
  "kernelspec": {
   "display_name": "Python 3",
   "language": "python",
   "name": "python3"
  },
  "language_info": {
   "codemirror_mode": {
    "name": "ipython",
    "version": 3
   },
   "file_extension": ".py",
   "mimetype": "text/x-python",
   "name": "python",
   "nbconvert_exporter": "python",
   "pygments_lexer": "ipython3",
   "version": "3.5.4"
  }
 },
 "nbformat": 4,
 "nbformat_minor": 2
}
